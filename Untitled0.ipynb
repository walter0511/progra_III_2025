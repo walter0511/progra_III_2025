{
  "nbformat": 4,
  "nbformat_minor": 0,
  "metadata": {
    "colab": {
      "provenance": [],
      "authorship_tag": "ABX9TyPTXA1dqePisTMXkdFc5yTM",
      "include_colab_link": true
    },
    "kernelspec": {
      "name": "python3",
      "display_name": "Python 3"
    },
    "language_info": {
      "name": "python"
    }
  },
  "cells": [
    {
      "cell_type": "markdown",
      "metadata": {
        "id": "view-in-github",
        "colab_type": "text"
      },
      "source": [
        "<a href=\"https://colab.research.google.com/github/walter0511/progra_III_2025/blob/main/Untitled0.ipynb\" target=\"_parent\"><img src=\"https://colab.research.google.com/assets/colab-badge.svg\" alt=\"Open In Colab\"/></a>"
      ]
    },
    {
      "cell_type": "code",
      "execution_count": null,
      "metadata": {
        "colab": {
          "base_uri": "https://localhost:8080/"
        },
        "id": "vHo-IDHEcYUl",
        "outputId": "115d2942-d769-483a-baf7-1b28c45fb31e"
      },
      "outputs": [
        {
          "output_type": "stream",
          "name": "stdout",
          "text": [
            "Hola Mundo\n",
            "No estoy listo para este ciclo\n"
          ]
        }
      ],
      "source": [
        "print(\"Hola Mundo\")\n",
        "print(\"No estoy listo para este ciclo\")"
      ]
    },
    {
      "cell_type": "code",
      "source": [
        " nombre = \"Walter Benavides\"\n",
        " edad = 5\n",
        " print (nombre, edad)\n",
        "\n",
        " edad = \"cinco\"\n",
        " print (\"tu edad: \", edad)"
      ],
      "metadata": {
        "id": "80XoKbwsdSAj",
        "colab": {
          "base_uri": "https://localhost:8080/"
        },
        "outputId": "fd2d3c86-2b8e-4872-db7d-e4a204b06483"
      },
      "execution_count": null,
      "outputs": [
        {
          "output_type": "stream",
          "name": "stdout",
          "text": [
            "Walter Benavides 5\n",
            "tu edad:  cinco\n"
          ]
        }
      ]
    },
    {
      "cell_type": "code",
      "source": [
        "num1 = 5\n",
        "num2 = 8.9\n",
        "suma = num1 + num2\n",
        "print (\"la suma es: \", suma)"
      ],
      "metadata": {
        "id": "mWaCPjqGeymM",
        "colab": {
          "base_uri": "https://localhost:8080/"
        },
        "outputId": "35136174-4008-4be5-f855-294200242d9c"
      },
      "execution_count": null,
      "outputs": [
        {
          "output_type": "stream",
          "name": "stdout",
          "text": [
            "la suma es:  13.9\n"
          ]
        }
      ]
    },
    {
      "cell_type": "code",
      "source": [
        "num1 = float(input(\"num1: \"))\n",
        "num2 = float(input(\"num2: \"))\n",
        "suma = num1 + num2\n",
        "print (\"la suma es:\", suma)"
      ],
      "metadata": {
        "colab": {
          "base_uri": "https://localhost:8080/"
        },
        "id": "lsLgZc6tgMH8",
        "outputId": "6c88a1a4-e50e-48c1-fb6c-f8d49f340a86"
      },
      "execution_count": null,
      "outputs": [
        {
          "output_type": "stream",
          "name": "stdout",
          "text": [
            "num1: 2\n",
            "num2: 3\n",
            "la suma es: 5.0\n"
          ]
        }
      ]
    },
    {
      "cell_type": "code",
      "source": [
        "num1 = float(input(\"num1: \"))\n",
        "num2 = float(input(\"num2: \"))\n",
        "resta = num1 - num2\n",
        "print (\"la resta es:\", resta)"
      ],
      "metadata": {
        "colab": {
          "base_uri": "https://localhost:8080/"
        },
        "id": "z1j2xiddiIFE",
        "outputId": "1453744e-9b55-452c-a0f5-c4978c4df64d"
      },
      "execution_count": null,
      "outputs": [
        {
          "output_type": "stream",
          "name": "stdout",
          "text": [
            "num1: 2\n",
            "num2: 3\n",
            "la resta es: -1.0\n"
          ]
        }
      ]
    },
    {
      "cell_type": "markdown",
      "source": [
        "TIPOS DE DATOS DE PYTHON"
      ],
      "metadata": {
        "id": "Y6XSh9UONOMz"
      }
    },
    {
      "cell_type": "code",
      "source": [
        "#entero\n",
        "num1 = 6\n",
        "print(num1, \"Esto es un numero entero\")\n",
        "print (str (num1) + \" Esto es un numero entero\")\n",
        "\n",
        "#decimal\n",
        "num2 = 7.5\n",
        "print(num2, \"Esto es un numero decimal\")\n",
        "\n",
        "#Booleano\n",
        "esMayor = True\n",
        "print(esMayor, \"Esto es un valor booleano\")\n",
        "\n",
        "#cadena\n",
        "nombre = \"Walter Benavides\"\n",
        "print(nombre, \"Esto es una cadena\")\n",
        "\n",
        "print (nombre,\"Letra inicial\", nombre[0],\"Un valor especifico\", nombre[6],\"Rango\", nombre [0:4],\"Comenzar desde el final\", nombre[-1])\n",
        "print ( nombre[5:len(nombre)], nombre[:4] )\n",
        "print (type(nombre))\n",
        "\n"
      ],
      "metadata": {
        "colab": {
          "base_uri": "https://localhost:8080/"
        },
        "id": "UhBqLxmINUSJ",
        "outputId": "9017f8d9-0ead-485c-bd46-d93e06db2198"
      },
      "execution_count": null,
      "outputs": [
        {
          "output_type": "stream",
          "name": "stdout",
          "text": [
            "6 Esto es un numero entero\n",
            "6 Esto es un numero entero\n",
            "7.5 Esto es un numero decimal\n",
            "True Esto es un valor booleano\n",
            "Walter Benavides Esto es una cadena\n",
            "Walter Benavides Letra inicial W Un valor especifico   Rango Walt Comenzar desde el final s\n",
            "r Benavides Walt\n",
            "<class 'str'>\n"
          ]
        }
      ]
    },
    {
      "cell_type": "code",
      "source": [
        "#Fecha\n",
        "from datetime import datetime, date, time\n",
        "fecha = datetime.now()\n",
        "print(fecha, fecha.date(), fecha.time())\n",
        "print(type(fecha))\n",
        "\n",
        "fechapersonalizada = date(2025,8,1)\n",
        "print(fechapersonalizada)\n",
        "\n",
        "fecha = \"2025-08-08\"\n",
        "fecha = datetime.strptime(fecha, \"%Y-%m-%d\")\n",
        "print(fecha)\n",
        "\n",
        "print( fecha.strftime(\"%d/%m/%Y\"), \"Regresamos a clases\")\n",
        "\n",
        "fechaNac = input(\"Dime tu fecha de nacimiento en formato d-m-Y: \")\n",
        "fechaNac = datetime.strptime(fechaNac, \"%d-%m-%Y\")\n",
        "print(fechaNac)\n",
        "\n"
      ],
      "metadata": {
        "colab": {
          "base_uri": "https://localhost:8080/"
        },
        "id": "PnP-7ukHTU9t",
        "outputId": "e2aa2fa0-9d0e-41fb-8562-ef8e25c03668"
      },
      "execution_count": null,
      "outputs": [
        {
          "output_type": "stream",
          "name": "stdout",
          "text": [
            "2025-07-28 14:06:31.410682 2025-07-28 14:06:31.410682\n",
            "<class 'datetime.datetime'>\n",
            "2025-08-01\n",
            "2025-08-08 00:00:00\n",
            "08/08/2025 Regresamos a clases\n",
            "Dime tu fecha de nacimiento en formato d-m-Y: 07-11-2005\n",
            "2005-11-07 00:00:00\n"
          ]
        }
      ]
    },
    {
      "cell_type": "markdown",
      "source": [
        "FUNCIONES EN PYTHON"
      ],
      "metadata": {
        "id": "YLMy5nnhXGf3"
      }
    },
    {
      "cell_type": "code",
      "source": [
        "def suma(num1, num2):\n",
        "  return num1 + num2"
      ],
      "metadata": {
        "id": "EkoIbqgEXKzP"
      },
      "execution_count": null,
      "outputs": []
    },
    {
      "cell_type": "code",
      "source": [
        "print(\"La suma de 5 + 8 = \", suma(5,8))"
      ],
      "metadata": {
        "colab": {
          "base_uri": "https://localhost:8080/"
        },
        "id": "CyM0NcReXxwJ",
        "outputId": "4a747289-23df-40d5-ff7b-38e79cc6f2fb"
      },
      "execution_count": null,
      "outputs": [
        {
          "output_type": "stream",
          "name": "stdout",
          "text": [
            "La suma de 5 + 8 =  10.0\n"
          ]
        }
      ]
    },
    {
      "cell_type": "code",
      "source": [
        "num1 = float(input(\"num1: \"))\n",
        "num2 = float(input(\"num2: \"))\n",
        "respuesta = suma(num1,num2)\n",
        "print (\"la suma es:\", respuesta)"
      ],
      "metadata": {
        "colab": {
          "base_uri": "https://localhost:8080/"
        },
        "id": "pX0cM0k9YY_e",
        "outputId": "a1b526bc-c115-4adf-d288-53c9ab6e58bb"
      },
      "execution_count": null,
      "outputs": [
        {
          "output_type": "stream",
          "name": "stdout",
          "text": [
            "num1: 2\n",
            "num2: 3\n",
            "la suma es: 5.0\n"
          ]
        }
      ]
    },
    {
      "cell_type": "code",
      "source": [
        "def resta(num1, num2):\n",
        "  return num1 - num2\n",
        "\n",
        "num1 = float(input(\"ingrese el primer numero: \"))\n",
        "num2 = float(input(\"ingrese el segundo numero: \"))\n",
        "respuesta = resta(num1,num2)\n",
        "print (\"la resta es:\", respuesta)"
      ],
      "metadata": {
        "colab": {
          "base_uri": "https://localhost:8080/"
        },
        "id": "7tE7C8GOYqnc",
        "outputId": "fd87a0df-7dd9-4e2b-cedf-8e66ec4103b8"
      },
      "execution_count": null,
      "outputs": [
        {
          "output_type": "stream",
          "name": "stdout",
          "text": [
            "ingrese el primer numero: 2\n",
            "ingrese el segundo numero: 2\n",
            "la resta es: 0.0\n"
          ]
        }
      ]
    },
    {
      "cell_type": "code",
      "source": [
        "#Hacer un ejercicios e python haciendo uso de las funciones de usuario, que convierta grados celcius a farenheit."
      ],
      "metadata": {
        "id": "R3cvQ99MUyTP"
      },
      "execution_count": null,
      "outputs": []
    },
    {
      "cell_type": "code",
      "source": [
        "def celciusFarenheit(c):\n",
        "  return c*1.8 + 32\n",
        "c = int (input(\"Grados c: \"))\n",
        "f = celciusFarenheit(c)\n",
        "print(\"F:\", f)"
      ],
      "metadata": {
        "colab": {
          "base_uri": "https://localhost:8080/"
        },
        "id": "580-RWL0Ya3b",
        "outputId": "8ffbe01a-df6a-4679-d10e-bdf3224c28dd"
      },
      "execution_count": null,
      "outputs": [
        {
          "output_type": "stream",
          "name": "stdout",
          "text": [
            "Grados c: 38\n",
            "F: 100.4\n"
          ]
        }
      ]
    },
    {
      "cell_type": "code",
      "source": [
        "#Hacer un ejercicios e python haciendo uso de las funciones de usuario, que convierta grados farenheit a celcius."
      ],
      "metadata": {
        "id": "DthFW0AsfgUV"
      },
      "execution_count": null,
      "outputs": []
    },
    {
      "cell_type": "code",
      "source": [
        "def FarenheitCelcius(f):\n",
        "  return (f-32) * 5/9\n",
        "f = float(input(\"Grados f: \"))\n",
        "c = FarenheitCelcius(f)\n",
        "print(\"C:\", c)\n"
      ],
      "metadata": {
        "colab": {
          "base_uri": "https://localhost:8080/"
        },
        "id": "c26JDB9yZtUB",
        "outputId": "eea64ff5-1fc9-4f28-b37c-99206cdaba32"
      },
      "execution_count": null,
      "outputs": [
        {
          "output_type": "stream",
          "name": "stdout",
          "text": [
            "Grados f: 100.4\n",
            "C: 38.0\n"
          ]
        }
      ]
    },
    {
      "cell_type": "code",
      "source": [
        "#Hacer un ejercicios e python haciendo uso de las funciones de usuario, que convierta grados celcius a Kalvin"
      ],
      "metadata": {
        "id": "AsBED9apfHbm"
      },
      "execution_count": null,
      "outputs": []
    },
    {
      "cell_type": "code",
      "source": [
        "def CelciusKalvin(c):\n",
        "  return (c + 273.15)\n",
        "c = float(input(\"Grados c: \"))\n",
        "k = CelciusKalvin(c)\n",
        "print(\"K:\", k)\n"
      ],
      "metadata": {
        "colab": {
          "base_uri": "https://localhost:8080/"
        },
        "id": "ZPgAZfhbfk3V",
        "outputId": "b38eb8e2-87d9-4a9e-f8e2-861b4e0036e9"
      },
      "execution_count": null,
      "outputs": [
        {
          "output_type": "stream",
          "name": "stdout",
          "text": [
            "Grados c: 32\n",
            "K: 305.15\n"
          ]
        }
      ]
    },
    {
      "cell_type": "code",
      "source": [
        " #hacer ejercicio de python haciendo uso de funciones de usuario, que calcule\n",
        " #el sueldo de u empleado, segun el numero de hrs trabajadas y el valor por hora"
      ],
      "metadata": {
        "id": "gAjbRjgLhfSX"
      },
      "execution_count": null,
      "outputs": []
    },
    {
      "cell_type": "code",
      "source": [
        "def sueldo(numHrs, valorXhr):\n",
        "  sueldo = numHrs * valorXhr * 30\n",
        "  return sueldo\n",
        ""
      ],
      "metadata": {
        "id": "pO03nW4ihzp6"
      },
      "execution_count": 42,
      "outputs": []
    },
    {
      "cell_type": "code",
      "source": [
        "numHrs = float(input(\"Horas trabajadas: \"))\n",
        "valorXhr = float(input(\"Valor por hora: \"))\n",
        "sueldo = sueldo(numHrs, valorXhr)\n",
        "print(\"Sueldo: \", sueldo)"
      ],
      "metadata": {
        "colab": {
          "base_uri": "https://localhost:8080/"
        },
        "id": "qX-NxLqcj6Lo",
        "outputId": "ec1cfc58-2fcb-4525-f9f3-8c940285f888"
      },
      "execution_count": 44,
      "outputs": [
        {
          "output_type": "stream",
          "name": "stdout",
          "text": [
            "Horas trabajadas: 5\n",
            "Valor por hora: 3\n",
            "Sueldo:  450.0\n"
          ]
        }
      ]
    },
    {
      "cell_type": "code",
      "source": [
        " #hacer ejercicio de python haciendo uso de funciones de usuario, que permta elevar un numero a un exponete"
      ],
      "metadata": {
        "id": "Uj-8Wb9VkHBR"
      },
      "execution_count": null,
      "outputs": []
    },
    {
      "cell_type": "code",
      "source": [
        "def expoenciacion (b,e):\n",
        "  return b ** e\n",
        "\n",
        "b = float(input(\"Base: \"))\n",
        "e = float(input(\"Exponente: \"))\n",
        "\n",
        "respuesta = expoenciacion(b,e)\n",
        "print(\"El numero: \",b, \"elevado a\", e,\"La respuesta es: \", respuesta)"
      ],
      "metadata": {
        "colab": {
          "base_uri": "https://localhost:8080/"
        },
        "id": "CIRk2RUZkQx5",
        "outputId": "44c46cbd-d6a8-4299-dd70-0f2886b2535f"
      },
      "execution_count": 46,
      "outputs": [
        {
          "output_type": "stream",
          "name": "stdout",
          "text": [
            "Base: 8\n",
            "Exponente: 3\n",
            "El numero:  8.0 elevado a 3.0 La respuesta es:  512.0\n"
          ]
        }
      ]
    }
  ]
}