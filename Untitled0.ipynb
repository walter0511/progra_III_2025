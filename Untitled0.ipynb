{
  "nbformat": 4,
  "nbformat_minor": 0,
  "metadata": {
    "colab": {
      "provenance": [],
      "authorship_tag": "ABX9TyO16OFNlGOX5XhRMo5ITSXo",
      "include_colab_link": true
    },
    "kernelspec": {
      "name": "python3",
      "display_name": "Python 3"
    },
    "language_info": {
      "name": "python"
    }
  },
  "cells": [
    {
      "cell_type": "markdown",
      "metadata": {
        "id": "view-in-github",
        "colab_type": "text"
      },
      "source": [
        "<a href=\"https://colab.research.google.com/github/walter0511/progra_III_2025/blob/main/Untitled0.ipynb\" target=\"_parent\"><img src=\"https://colab.research.google.com/assets/colab-badge.svg\" alt=\"Open In Colab\"/></a>"
      ]
    },
    {
      "cell_type": "code",
      "execution_count": null,
      "metadata": {
        "colab": {
          "base_uri": "https://localhost:8080/"
        },
        "id": "vHo-IDHEcYUl",
        "outputId": "115d2942-d769-483a-baf7-1b28c45fb31e"
      },
      "outputs": [
        {
          "output_type": "stream",
          "name": "stdout",
          "text": [
            "Hola Mundo\n",
            "No estoy listo para este ciclo\n"
          ]
        }
      ],
      "source": [
        "print(\"Hola Mundo\")\n",
        "print(\"No estoy listo para este ciclo\")"
      ]
    },
    {
      "cell_type": "code",
      "source": [
        " nombre = \"Walter Benavides\"\n",
        " edad = 5\n",
        " print (nombre, edad)\n",
        "\n",
        " edad = \"cinco\"\n",
        " print (\"tu edad: \", edad)"
      ],
      "metadata": {
        "id": "80XoKbwsdSAj",
        "colab": {
          "base_uri": "https://localhost:8080/"
        },
        "outputId": "fd2d3c86-2b8e-4872-db7d-e4a204b06483"
      },
      "execution_count": 3,
      "outputs": [
        {
          "output_type": "stream",
          "name": "stdout",
          "text": [
            "Walter Benavides 5\n",
            "tu edad:  cinco\n"
          ]
        }
      ]
    },
    {
      "cell_type": "code",
      "source": [
        "num1 = 5\n",
        "num2 = 8.9\n",
        "suma = num1 + num2\n",
        "print (\"la suma es: \", suma)"
      ],
      "metadata": {
        "id": "mWaCPjqGeymM",
        "colab": {
          "base_uri": "https://localhost:8080/"
        },
        "outputId": "35136174-4008-4be5-f855-294200242d9c"
      },
      "execution_count": 2,
      "outputs": [
        {
          "output_type": "stream",
          "name": "stdout",
          "text": [
            "la suma es:  13.9\n"
          ]
        }
      ]
    },
    {
      "cell_type": "code",
      "source": [
        "num1 = float(input(\"num1: \"))\n",
        "num2 = float(input(\"num2: \"))\n",
        "suma = num1 + num2\n",
        "print (\"la suma es:\", suma)"
      ],
      "metadata": {
        "colab": {
          "base_uri": "https://localhost:8080/"
        },
        "id": "lsLgZc6tgMH8",
        "outputId": "6c88a1a4-e50e-48c1-fb6c-f8d49f340a86"
      },
      "execution_count": 7,
      "outputs": [
        {
          "output_type": "stream",
          "name": "stdout",
          "text": [
            "num1: 2\n",
            "num2: 3\n",
            "la suma es: 5.0\n"
          ]
        }
      ]
    },
    {
      "cell_type": "code",
      "source": [
        "num1 = float(input(\"num1: \"))\n",
        "num2 = float(input(\"num2: \"))\n",
        "resta = num1 - num2\n",
        "print (\"la resta es:\", resta)"
      ],
      "metadata": {
        "colab": {
          "base_uri": "https://localhost:8080/"
        },
        "id": "z1j2xiddiIFE",
        "outputId": "1453744e-9b55-452c-a0f5-c4978c4df64d"
      },
      "execution_count": 8,
      "outputs": [
        {
          "output_type": "stream",
          "name": "stdout",
          "text": [
            "num1: 2\n",
            "num2: 3\n",
            "la resta es: -1.0\n"
          ]
        }
      ]
    }
  ]
}