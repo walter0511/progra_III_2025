{
  "nbformat": 4,
  "nbformat_minor": 0,
  "metadata": {
    "colab": {
      "provenance": [],
      "authorship_tag": "ABX9TyNuu3CFvQvZPRB7Q8INZvpz",
      "include_colab_link": true
    },
    "kernelspec": {
      "name": "python3",
      "display_name": "Python 3"
    },
    "language_info": {
      "name": "python"
    }
  },
  "cells": [
    {
      "cell_type": "markdown",
      "metadata": {
        "id": "view-in-github",
        "colab_type": "text"
      },
      "source": [
        "<a href=\"https://colab.research.google.com/github/walter0511/progra_III_2025/blob/main/Untitled0.ipynb\" target=\"_parent\"><img src=\"https://colab.research.google.com/assets/colab-badge.svg\" alt=\"Open In Colab\"/></a>"
      ]
    },
    {
      "cell_type": "code",
      "execution_count": null,
      "metadata": {
        "colab": {
          "base_uri": "https://localhost:8080/"
        },
        "id": "vHo-IDHEcYUl",
        "outputId": "115d2942-d769-483a-baf7-1b28c45fb31e"
      },
      "outputs": [
        {
          "output_type": "stream",
          "name": "stdout",
          "text": [
            "Hola Mundo\n",
            "No estoy listo para este ciclo\n"
          ]
        }
      ],
      "source": [
        "print(\"Hola Mundo\")\n",
        "print(\"No estoy listo para este ciclo\")"
      ]
    },
    {
      "cell_type": "code",
      "source": [
        " nombre = \"Walter Benavides\"\n",
        " edad = 5\n",
        " print (nombre, edad)\n",
        "\n",
        " edad = \"cinco\"\n",
        " print (\"tu edad: \", edad)"
      ],
      "metadata": {
        "id": "80XoKbwsdSAj",
        "colab": {
          "base_uri": "https://localhost:8080/"
        },
        "outputId": "fd2d3c86-2b8e-4872-db7d-e4a204b06483"
      },
      "execution_count": null,
      "outputs": [
        {
          "output_type": "stream",
          "name": "stdout",
          "text": [
            "Walter Benavides 5\n",
            "tu edad:  cinco\n"
          ]
        }
      ]
    },
    {
      "cell_type": "code",
      "source": [
        "num1 = 5\n",
        "num2 = 8.9\n",
        "suma = num1 + num2\n",
        "print (\"la suma es: \", suma)"
      ],
      "metadata": {
        "id": "mWaCPjqGeymM",
        "colab": {
          "base_uri": "https://localhost:8080/"
        },
        "outputId": "35136174-4008-4be5-f855-294200242d9c"
      },
      "execution_count": null,
      "outputs": [
        {
          "output_type": "stream",
          "name": "stdout",
          "text": [
            "la suma es:  13.9\n"
          ]
        }
      ]
    },
    {
      "cell_type": "code",
      "source": [
        "num1 = float(input(\"num1: \"))\n",
        "num2 = float(input(\"num2: \"))\n",
        "suma = num1 + num2\n",
        "print (\"la suma es:\", suma)"
      ],
      "metadata": {
        "colab": {
          "base_uri": "https://localhost:8080/"
        },
        "id": "lsLgZc6tgMH8",
        "outputId": "6c88a1a4-e50e-48c1-fb6c-f8d49f340a86"
      },
      "execution_count": null,
      "outputs": [
        {
          "output_type": "stream",
          "name": "stdout",
          "text": [
            "num1: 2\n",
            "num2: 3\n",
            "la suma es: 5.0\n"
          ]
        }
      ]
    },
    {
      "cell_type": "code",
      "source": [
        "num1 = float(input(\"num1: \"))\n",
        "num2 = float(input(\"num2: \"))\n",
        "resta = num1 - num2\n",
        "print (\"la resta es:\", resta)"
      ],
      "metadata": {
        "colab": {
          "base_uri": "https://localhost:8080/"
        },
        "id": "z1j2xiddiIFE",
        "outputId": "1453744e-9b55-452c-a0f5-c4978c4df64d"
      },
      "execution_count": null,
      "outputs": [
        {
          "output_type": "stream",
          "name": "stdout",
          "text": [
            "num1: 2\n",
            "num2: 3\n",
            "la resta es: -1.0\n"
          ]
        }
      ]
    },
    {
      "cell_type": "markdown",
      "source": [
        "TIPOS DE DATOS DE PYTHON"
      ],
      "metadata": {
        "id": "Y6XSh9UONOMz"
      }
    },
    {
      "cell_type": "code",
      "source": [
        "#entero\n",
        "num1 = 6\n",
        "print(num1, \"Esto es un numero entero\")\n",
        "print (str (num1) + \" Esto es un numero entero\")\n",
        "\n",
        "#decimal\n",
        "num2 = 7.5\n",
        "print(num2, \"Esto es un numero decimal\")\n",
        "\n",
        "#Booleano\n",
        "esMayor = True\n",
        "print(esMayor, \"Esto es un valor booleano\")\n",
        "\n",
        "#cadena\n",
        "nombre = \"Walter Benavides\"\n",
        "print(nombre, \"Esto es una cadena\")\n",
        "\n",
        "print (nombre,\"Letra inicial\", nombre[0],\"Un valor especifico\", nombre[6],\"Rango\", nombre [0:4],\"Comenzar desde el final\", nombre[-1])\n",
        "print ( nombre[5:len(nombre)], nombre[:4] )\n",
        "print (type(nombre))\n",
        "\n"
      ],
      "metadata": {
        "colab": {
          "base_uri": "https://localhost:8080/"
        },
        "id": "UhBqLxmINUSJ",
        "outputId": "9017f8d9-0ead-485c-bd46-d93e06db2198"
      },
      "execution_count": null,
      "outputs": [
        {
          "output_type": "stream",
          "name": "stdout",
          "text": [
            "6 Esto es un numero entero\n",
            "6 Esto es un numero entero\n",
            "7.5 Esto es un numero decimal\n",
            "True Esto es un valor booleano\n",
            "Walter Benavides Esto es una cadena\n",
            "Walter Benavides Letra inicial W Un valor especifico   Rango Walt Comenzar desde el final s\n",
            "r Benavides Walt\n",
            "<class 'str'>\n"
          ]
        }
      ]
    },
    {
      "cell_type": "code",
      "source": [
        "#Fecha\n",
        "from datetime import datetime, date, time\n",
        "fecha = datetime.now()\n",
        "print(fecha, fecha.date(), fecha.time())\n",
        "print(type(fecha))\n",
        "\n",
        "fechapersonalizada = date(2025,8,1)\n",
        "print(fechapersonalizada)\n",
        "\n",
        "fecha = \"2025-08-08\"\n",
        "fecha = datetime.strptime(fecha, \"%Y-%m-%d\")\n",
        "print(fecha)\n",
        "\n",
        "print( fecha.strftime(\"%d/%m/%Y\"), \"Regresamos a clases\")\n",
        "\n",
        "fechaNac = input(\"Dime tu fecha de nacimiento en formato d-m-Y: \")\n",
        "fechaNac = datetime.strptime(fechaNac, \"%d-%m-%Y\")\n",
        "print(fechaNac)\n",
        "\n"
      ],
      "metadata": {
        "colab": {
          "base_uri": "https://localhost:8080/"
        },
        "id": "PnP-7ukHTU9t",
        "outputId": "e2aa2fa0-9d0e-41fb-8562-ef8e25c03668"
      },
      "execution_count": null,
      "outputs": [
        {
          "output_type": "stream",
          "name": "stdout",
          "text": [
            "2025-07-28 14:06:31.410682 2025-07-28 14:06:31.410682\n",
            "<class 'datetime.datetime'>\n",
            "2025-08-01\n",
            "2025-08-08 00:00:00\n",
            "08/08/2025 Regresamos a clases\n",
            "Dime tu fecha de nacimiento en formato d-m-Y: 07-11-2005\n",
            "2005-11-07 00:00:00\n"
          ]
        }
      ]
    },
    {
      "cell_type": "markdown",
      "source": [
        "FUNCIONES EN PYTHON"
      ],
      "metadata": {
        "id": "YLMy5nnhXGf3"
      }
    },
    {
      "cell_type": "code",
      "source": [
        "def suma(num1, num2):\n",
        "  return num1 + num2"
      ],
      "metadata": {
        "id": "EkoIbqgEXKzP"
      },
      "execution_count": null,
      "outputs": []
    },
    {
      "cell_type": "code",
      "source": [
        "print(\"La suma de 5 + 8 = \", suma(5,8))"
      ],
      "metadata": {
        "colab": {
          "base_uri": "https://localhost:8080/"
        },
        "id": "CyM0NcReXxwJ",
        "outputId": "4a747289-23df-40d5-ff7b-38e79cc6f2fb"
      },
      "execution_count": null,
      "outputs": [
        {
          "output_type": "stream",
          "name": "stdout",
          "text": [
            "La suma de 5 + 8 =  10.0\n"
          ]
        }
      ]
    },
    {
      "cell_type": "code",
      "source": [
        "num1 = float(input(\"num1: \"))\n",
        "num2 = float(input(\"num2: \"))\n",
        "respuesta = suma(num1,num2)\n",
        "print (\"la suma es:\", respuesta)"
      ],
      "metadata": {
        "colab": {
          "base_uri": "https://localhost:8080/"
        },
        "id": "pX0cM0k9YY_e",
        "outputId": "a1b526bc-c115-4adf-d288-53c9ab6e58bb"
      },
      "execution_count": null,
      "outputs": [
        {
          "output_type": "stream",
          "name": "stdout",
          "text": [
            "num1: 2\n",
            "num2: 3\n",
            "la suma es: 5.0\n"
          ]
        }
      ]
    },
    {
      "cell_type": "code",
      "source": [
        "def resta(num1, num2):\n",
        "  return num1 - num2\n",
        "\n",
        "num1 = float(input(\"ingrese el primer numero: \"))\n",
        "num2 = float(input(\"ingrese el segundo numero: \"))\n",
        "respuesta = resta(num1,num2)\n",
        "print (\"la resta es:\", respuesta)"
      ],
      "metadata": {
        "colab": {
          "base_uri": "https://localhost:8080/"
        },
        "id": "7tE7C8GOYqnc",
        "outputId": "fd87a0df-7dd9-4e2b-cedf-8e66ec4103b8"
      },
      "execution_count": null,
      "outputs": [
        {
          "output_type": "stream",
          "name": "stdout",
          "text": [
            "ingrese el primer numero: 2\n",
            "ingrese el segundo numero: 2\n",
            "la resta es: 0.0\n"
          ]
        }
      ]
    },
    {
      "cell_type": "code",
      "source": [
        "#Hacer un ejercicios e python haciendo uso de las funciones de usuario, que convierta grados celcius a farenheit."
      ],
      "metadata": {
        "id": "R3cvQ99MUyTP"
      },
      "execution_count": null,
      "outputs": []
    },
    {
      "cell_type": "code",
      "source": [
        "def celciusFarenheit(c):\n",
        "  return c*1.8 + 32\n",
        "c = int (input(\"Grados c: \"))\n",
        "f = celciusFarenheit(c)\n",
        "print(\"F:\", f)"
      ],
      "metadata": {
        "colab": {
          "base_uri": "https://localhost:8080/"
        },
        "id": "580-RWL0Ya3b",
        "outputId": "8ffbe01a-df6a-4679-d10e-bdf3224c28dd"
      },
      "execution_count": null,
      "outputs": [
        {
          "output_type": "stream",
          "name": "stdout",
          "text": [
            "Grados c: 38\n",
            "F: 100.4\n"
          ]
        }
      ]
    },
    {
      "cell_type": "code",
      "source": [
        "#Hacer un ejercicios e python haciendo uso de las funciones de usuario, que convierta grados farenheit a celcius."
      ],
      "metadata": {
        "id": "DthFW0AsfgUV"
      },
      "execution_count": null,
      "outputs": []
    },
    {
      "cell_type": "code",
      "source": [
        "def FarenheitCelcius(f):\n",
        "  return (f-32) * 5/9\n",
        "f = float(input(\"Grados f: \"))\n",
        "c = FarenheitCelcius(f)\n",
        "print(\"C:\", c)\n"
      ],
      "metadata": {
        "colab": {
          "base_uri": "https://localhost:8080/"
        },
        "id": "c26JDB9yZtUB",
        "outputId": "eea64ff5-1fc9-4f28-b37c-99206cdaba32"
      },
      "execution_count": null,
      "outputs": [
        {
          "output_type": "stream",
          "name": "stdout",
          "text": [
            "Grados f: 100.4\n",
            "C: 38.0\n"
          ]
        }
      ]
    },
    {
      "cell_type": "code",
      "source": [
        "#Hacer un ejercicios e python haciendo uso de las funciones de usuario, que convierta grados celcius a Kalvin"
      ],
      "metadata": {
        "id": "AsBED9apfHbm"
      },
      "execution_count": null,
      "outputs": []
    },
    {
      "cell_type": "code",
      "source": [
        "def CelciusKalvin(c):\n",
        "  return (c + 273.15)\n",
        "c = float(input(\"Grados c: \"))\n",
        "k = CelciusKalvin(c)\n",
        "print(\"K:\", k)\n"
      ],
      "metadata": {
        "colab": {
          "base_uri": "https://localhost:8080/"
        },
        "id": "ZPgAZfhbfk3V",
        "outputId": "b38eb8e2-87d9-4a9e-f8e2-861b4e0036e9"
      },
      "execution_count": null,
      "outputs": [
        {
          "output_type": "stream",
          "name": "stdout",
          "text": [
            "Grados c: 32\n",
            "K: 305.15\n"
          ]
        }
      ]
    },
    {
      "cell_type": "code",
      "source": [
        " #hacer ejercicio de python haciendo uso de funciones de usuario, que calcule\n",
        " #el sueldo de u empleado, segun el numero de hrs trabajadas y el valor por hora"
      ],
      "metadata": {
        "id": "gAjbRjgLhfSX"
      },
      "execution_count": null,
      "outputs": []
    },
    {
      "cell_type": "code",
      "source": [
        "def sueldo(numHrs, valorXhr):\n",
        "  sueldo = numHrs * valorXhr * 30\n",
        "  return sueldo\n"
      ],
      "metadata": {
        "id": "pO03nW4ihzp6"
      },
      "execution_count": null,
      "outputs": []
    },
    {
      "cell_type": "code",
      "source": [
        "numHrs = float(input(\"Horas trabajadas: \"))\n",
        "valorXhr = float(input(\"Valor por hora: \"))\n",
        "sueldo = sueldo(numHrs, valorXhr)\n",
        "print(\"Sueldo: \", sueldo)"
      ],
      "metadata": {
        "colab": {
          "base_uri": "https://localhost:8080/"
        },
        "id": "qX-NxLqcj6Lo",
        "outputId": "ec1cfc58-2fcb-4525-f9f3-8c940285f888"
      },
      "execution_count": null,
      "outputs": [
        {
          "output_type": "stream",
          "name": "stdout",
          "text": [
            "Horas trabajadas: 5\n",
            "Valor por hora: 3\n",
            "Sueldo:  450.0\n"
          ]
        }
      ]
    },
    {
      "cell_type": "code",
      "source": [
        " #hacer ejercicio de python haciendo uso de funciones de usuario, que permta elevar un numero a un exponete"
      ],
      "metadata": {
        "id": "Uj-8Wb9VkHBR"
      },
      "execution_count": null,
      "outputs": []
    },
    {
      "cell_type": "code",
      "source": [
        "def expoenciacion (b,e):\n",
        "  return b ** e\n",
        "\n",
        "b = float(input(\"Base: \"))\n",
        "e = float(input(\"Exponente: \"))\n",
        "\n",
        "respuesta = expoenciacion(b,e)\n",
        "print(\"El numero: \",b, \"elevado a\", e,\"La respuesta es: \", respuesta)"
      ],
      "metadata": {
        "colab": {
          "base_uri": "https://localhost:8080/"
        },
        "id": "CIRk2RUZkQx5",
        "outputId": "44c46cbd-d6a8-4299-dd70-0f2886b2535f"
      },
      "execution_count": null,
      "outputs": [
        {
          "output_type": "stream",
          "name": "stdout",
          "text": [
            "Base: 8\n",
            "Exponente: 3\n",
            "El numero:  8.0 elevado a 3.0 La respuesta es:  512.0\n"
          ]
        }
      ]
    },
    {
      "cell_type": "markdown",
      "source": [
        "**FUNCIONES ANONIMAS**"
      ],
      "metadata": {
        "id": "YccMqKDfP2OS"
      }
    },
    {
      "cell_type": "code",
      "source": [
        "def suma(a,b):\n",
        "  return a+b\n",
        "\n",
        "a = float(input(\"num1: \"))\n",
        "b = float(input(\"num2: \"))\n",
        "\n",
        "suma = suma(a,b)\n",
        "print(\"La suma es: \", suma)"
      ],
      "metadata": {
        "colab": {
          "base_uri": "https://localhost:8080/"
        },
        "id": "Y_7cfuxQP6pQ",
        "outputId": "f96a4221-adbe-4d71-a0aa-ee734ebf8b27"
      },
      "execution_count": null,
      "outputs": [
        {
          "output_type": "stream",
          "name": "stdout",
          "text": [
            "num1: 4\n",
            "num2: 4\n",
            "La suma es:  8.0\n"
          ]
        }
      ]
    },
    {
      "cell_type": "code",
      "source": [
        "A = float(input(\"num1: \"))\n",
        "B = float(input(\"num2: \"))\n",
        "\n",
        "sum = lambda A,B: A+B\n",
        "print( \"La suma de\", A , \"mas b\", B, \"es igual\", sum(A,B) )"
      ],
      "metadata": {
        "colab": {
          "base_uri": "https://localhost:8080/"
        },
        "id": "5C5ykIf8QYNq",
        "outputId": "70c93f7d-8fbc-474d-9cd9-bee9f86452eb"
      },
      "execution_count": null,
      "outputs": [
        {
          "output_type": "stream",
          "name": "stdout",
          "text": [
            "num1: 2\n",
            "num2: 3\n",
            "La suma de 2.0 mas b 3.0 es igual 5.0\n"
          ]
        }
      ]
    },
    {
      "cell_type": "markdown",
      "source": [
        "FUNCIONES PRECONSTRUIDAS"
      ],
      "metadata": {
        "id": "JQVJkZBOTEXS"
      }
    },
    {
      "cell_type": "code",
      "source": [
        "def extraerPrimeraLetra(dia):\n",
        "  return dia[0]\n",
        "\n",
        "\n",
        "#map\n",
        "semana = [\"Domingo\", \"Lunes\", \"Martes\", \"Miercoles\", \"Jueves\", \"Viernes\", \"Sabado\"]\n",
        "\n",
        "primeraLetraDia = map(lambda dia: dia[0], semana)\n",
        "print(list(primeraLetraDia))\n",
        "\n",
        "mayusSemana = map(lambda dia: dia.upper(), semana)\n",
        "print(list(mayusSemana))\n",
        "\n",
        "print( list(map(extraerPrimeraLetra, semana)) )"
      ],
      "metadata": {
        "colab": {
          "base_uri": "https://localhost:8080/"
        },
        "id": "WXfMlgiETH81",
        "outputId": "31c18a55-4012-404c-bdb3-f48d2e3ef004"
      },
      "execution_count": null,
      "outputs": [
        {
          "output_type": "stream",
          "name": "stdout",
          "text": [
            "['D', 'L', 'M', 'M', 'J', 'V', 'S']\n",
            "['DOMINGO', 'LUNES', 'MARTES', 'MIERCOLES', 'JUEVES', 'VIERNES', 'SABADO']\n",
            "['D', 'L', 'M', 'M', 'J', 'V', 'S']\n"
          ]
        }
      ]
    },
    {
      "cell_type": "code",
      "source": [
        "numeros = [2,4,6,8,7,9]\n",
        "potencia = int(input(\"Potencia: \"))\n",
        "numeroPotencia = map(lambda num: num**potencia, numeros)\n",
        "\n",
        "print(list(numeroPotencia))"
      ],
      "metadata": {
        "colab": {
          "base_uri": "https://localhost:8080/"
        },
        "id": "oxiHIlFJnghN",
        "outputId": "a7306623-cbb6-4b36-e7e3-f9bfd792517d"
      },
      "execution_count": null,
      "outputs": [
        {
          "output_type": "stream",
          "name": "stdout",
          "text": [
            "Potencia: 4\n",
            "[16, 256, 1296, 4096, 2401, 6561]\n"
          ]
        }
      ]
    },
    {
      "cell_type": "code",
      "source": [
        "ntabla  = int(input(\"Tabla:\"))\n",
        "numeros = [1,2,3,4,5,6,7,8,9,10]\n",
        "tabla = map(lambda num: num*ntabla, numeros)\n",
        "\n",
        "print(list(tabla))"
      ],
      "metadata": {
        "colab": {
          "base_uri": "https://localhost:8080/"
        },
        "id": "mCYa_GmLoABn",
        "outputId": "d5e9152f-2c3e-42df-c29c-b3212eff7fa0"
      },
      "execution_count": null,
      "outputs": [
        {
          "output_type": "stream",
          "name": "stdout",
          "text": [
            "Tabla:2\n",
            "[2, 4, 6, 8, 10, 12, 14, 16, 18, 20]\n"
          ]
        }
      ]
    },
    {
      "cell_type": "code",
      "source": [
        "serie = [5,6,9,2,7,8]\n",
        "pares = filter(lambda num: num%2==0, serie) #% ===> a modulo, obtener el residuo.\n",
        "\n",
        "print(list(pares))\n",
        "\n",
        "impares = filter(lambda num: num%2!=0, serie)\n",
        "\n",
        "print(list(impares))\n"
      ],
      "metadata": {
        "colab": {
          "base_uri": "https://localhost:8080/"
        },
        "id": "6sPs6USnoeI3",
        "outputId": "07966ee1-a1bb-4a52-8649-2e2a1873786e"
      },
      "execution_count": null,
      "outputs": [
        {
          "output_type": "stream",
          "name": "stdout",
          "text": [
            "[6, 2, 8]\n",
            "[5, 9, 7]\n"
          ]
        }
      ]
    },
    {
      "cell_type": "code",
      "source": [
        "\n",
        "serieUser = input(\"Serie: \") # \"5,2,8,1\" --> serie[0]=\"5\"; serie[1]=\"2\"; etc..\n",
        "serieUser = serieUser.split(\",\")\n",
        "\n",
        "pares = filter(lambda num: int(num)%2==0, serieUser)\n",
        "impares = filter(lambda num: int(num)%2!=0, serieUser)\n",
        "\n",
        "print(\"Pares: \",list(pares))\n",
        "print(\"Impares: \", list(impares))"
      ],
      "metadata": {
        "colab": {
          "base_uri": "https://localhost:8080/"
        },
        "id": "5HF7xLSxovoa",
        "outputId": "5d763edc-d1b3-4155-b89c-c10ba2fa20ba"
      },
      "execution_count": null,
      "outputs": [
        {
          "output_type": "stream",
          "name": "stdout",
          "text": [
            "Serie: 3,4,5,6,2,1,5\n",
            "Pares:  ['4', '6', '2']\n",
            "Impares:  ['3', '5', '1', '5']\n"
          ]
        }
      ]
    },
    {
      "cell_type": "markdown",
      "source": [
        "Hacer un ejercicio en python usando la funcion filter y lambda que de una seria de notas introducidas por el usuario, establezca cuantos pasan la materia (>6) y cuantos se quedan (<6)."
      ],
      "metadata": {
        "id": "d17Qwo6fpIle"
      }
    },
    {
      "cell_type": "code",
      "source": [
        "#reduce\n",
        "from functools import reduce\n",
        "numeros = [5,4,9,6,8,2,3]\n",
        "suma = reduce(lambda num, acum: num+acum, numeros)\n",
        "\n",
        "sumaPares = reduce(lambda acum, num: acum + num, filter(lambda num: num%2==0, numeros))\n",
        "sumaPar = reduce(lambda acum, num: acum + num if num%2==0 else acum, numeros,0)\n",
        "\n",
        "print(\"La suma es: \", suma)\n",
        "print(\"La suma de los pares es: \", sumaPares)\n",
        "print(\"Suma Pares: \", sumaPar)"
      ],
      "metadata": {
        "colab": {
          "base_uri": "https://localhost:8080/"
        },
        "id": "QSvu7cQQbE5W",
        "outputId": "976a439b-6d75-4000-f4e3-1d83854ebeb3"
      },
      "execution_count": 10,
      "outputs": [
        {
          "output_type": "stream",
          "name": "stdout",
          "text": [
            "La suma es:  37\n",
            "La suma de los pares es:  20\n",
            "Suma Pares:  20\n"
          ]
        }
      ]
    },
    {
      "cell_type": "code",
      "source": [
        "\n",
        "notas = input(\"Ingrese las notas de los alumnos: \")\n",
        "\n",
        "\n",
        "try:\n",
        "\n",
        "    notas = [float(nota.strip()) for nota in notas.split(',')]\n",
        "    aprobados = list(filter(lambda nota: nota > 6, notas))\n",
        "\n",
        "    reprobados = list(filter(lambda nota: nota < 6, notas))\n",
        "\n",
        "\n",
        "    nota_seis = list(filter(lambda nota: nota == 6, notas))\n",
        "\n",
        "    print(\"\\n--- Resumen de Notas ---\")\n",
        "    print(f\"Notas ingresadas: {notas}\")\n",
        "    print(f\"Alumnos que aprobaron: {len(aprobados)} (Notas: {aprobados})\")\n",
        "    print(f\"Alumnos que reprobaron: {len(reprobados)} (Notas: {reprobados})\")\n",
        "\n",
        "except ValueError:\n",
        "    print(\"Error: Asegúrate de ingresar solo números separados por comas.\")\n"
      ],
      "metadata": {
        "colab": {
          "base_uri": "https://localhost:8080/"
        },
        "id": "xaqnjdOzo6UC",
        "outputId": "dedfdd3d-83b6-4467-f283-6d14b9e01bb6"
      },
      "execution_count": 2,
      "outputs": [
        {
          "output_type": "stream",
          "name": "stdout",
          "text": [
            "Ingrese las notas de los alumnos: 2,3,4,4,5,8,9\n",
            "\n",
            "--- Resumen de Notas ---\n",
            "Notas ingresadas: [2.0, 3.0, 4.0, 4.0, 5.0, 8.0, 9.0]\n",
            "Alumnos que aprobaron: 2 (Notas: [8.0, 9.0])\n",
            "Alumnos que reprobaron: 5 (Notas: [2.0, 3.0, 4.0, 4.0, 5.0])\n"
          ]
        }
      ]
    },
    {
      "cell_type": "code",
      "source": [
        "#reduce\n",
        "from functools import reduce\n",
        "\n",
        "numeros = [5,4,9,6,8,2,3]\n",
        "suma = reduce(lambda num, acum: num+acum, numeros)\n",
        "\n",
        "sumaPares = reduce(lambda num, acum: num+acum, filter(lambda num: num%2==0, numeros))\n",
        "sumaPar = reduce(lambda num, acum: acum + num if num%2==0 else 0, numeros) #pendiente de revisar...\n",
        "\n",
        "print(\"La suma es: \", suma)\n",
        "print(\"La suma de los pares es: \", sumaPares)\n",
        "print(\"Suma Pares: \", sumaPar)"
      ],
      "metadata": {
        "colab": {
          "base_uri": "https://localhost:8080/"
        },
        "id": "fexeEYDIpVgH",
        "outputId": "a17aab10-f5df-4d9e-dd03-c1d22a4bbf00"
      },
      "execution_count": null,
      "outputs": [
        {
          "output_type": "stream",
          "name": "stdout",
          "text": [
            "La suma es:  37\n",
            "La suma de los pares es:  20\n",
            "Suma Pares:  13\n"
          ]
        }
      ]
    },
    {
      "cell_type": "markdown",
      "source": [
        "**TUPLAS**"
      ],
      "metadata": {
        "id": "wDcAZcaPe9jm"
      }
    },
    {
      "cell_type": "code",
      "source": [
        "tupla = (1,2,3,4,5)\n",
        "#print[0]=1\n",
        "print (\"Tupla:\", tupla, \"Primer elemento:\", tupla[0], \"El Numero cinco parece \", tupla.count(5))\n",
        "print (\"Ultimo elemento: \", tupla[-1])\n",
        "print(\"Rango: \", tupla [0:5])\n"
      ],
      "metadata": {
        "colab": {
          "base_uri": "https://localhost:8080/"
        },
        "id": "tSluUxMRfGQD",
        "outputId": "447b1b6a-7f92-4bf0-8156-f77c89bcb19d"
      },
      "execution_count": 13,
      "outputs": [
        {
          "output_type": "stream",
          "name": "stdout",
          "text": [
            "Tupla: (1, 2, 3, 4, 5) Primer elemento: 1 El Numero cinco parece  1\n",
            "Ultimo elemento:  5\n",
            "Rango:  (1, 2, 3, 4, 5)\n"
          ]
        }
      ]
    },
    {
      "cell_type": "code",
      "source": [
        "import datetime\n",
        "fecha = datetime.date.today()\n",
        "\n",
        "semana = (\"Domingo\", \"Lunes\", \"Martes\", \"Miercoles\", \"Jueves\", \"Viernes\", \"Sabado\")\n",
        "meses = (\"\",\"Enero\", \"Febrero\", \"Marzo\", \"Abril\", \"Mayo\", \"Junio\", \"Julio\", \"Agosto\", \"Septiembre\", \"Octubre\", \"Noviembre\", \"Diciembre\")\n",
        "\n",
        "dia = fecha.day\n",
        "mes = fecha.month\n",
        "year = fecha.year\n",
        "diaSemana = semana[fecha.isoweekday()]\n",
        "\n",
        "print(diaSemana, dia, \"de\", meses[mes], \"del\", year)\n",
        "print(fecha, fecha.isoweekday(), diaSemana)\n",
        "print(dia, mes, year)"
      ],
      "metadata": {
        "colab": {
          "base_uri": "https://localhost:8080/"
        },
        "id": "nypmnpKwimXK",
        "outputId": "3597e9d2-3c70-458b-d621-d10426fa2125"
      },
      "execution_count": 17,
      "outputs": [
        {
          "output_type": "stream",
          "name": "stdout",
          "text": [
            "Martes 12 de Agosto del 2025\n",
            "2025-08-12 2 Martes\n",
            "12 8 2025\n"
          ]
        }
      ]
    }
  ]
}