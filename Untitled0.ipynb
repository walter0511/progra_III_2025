{
  "nbformat": 4,
  "nbformat_minor": 0,
  "metadata": {
    "colab": {
      "provenance": [],
      "authorship_tag": "ABX9TyPxX1GQE01OZr4C/g4cTYbD",
      "include_colab_link": true
    },
    "kernelspec": {
      "name": "python3",
      "display_name": "Python 3"
    },
    "language_info": {
      "name": "python"
    }
  },
  "cells": [
    {
      "cell_type": "markdown",
      "metadata": {
        "id": "view-in-github",
        "colab_type": "text"
      },
      "source": [
        "<a href=\"https://colab.research.google.com/github/walter0511/progra_III_2025/blob/main/Untitled0.ipynb\" target=\"_parent\"><img src=\"https://colab.research.google.com/assets/colab-badge.svg\" alt=\"Open In Colab\"/></a>"
      ]
    },
    {
      "cell_type": "code",
      "execution_count": null,
      "metadata": {
        "colab": {
          "base_uri": "https://localhost:8080/"
        },
        "id": "vHo-IDHEcYUl",
        "outputId": "115d2942-d769-483a-baf7-1b28c45fb31e"
      },
      "outputs": [
        {
          "output_type": "stream",
          "name": "stdout",
          "text": [
            "Hola Mundo\n",
            "No estoy listo para este ciclo\n"
          ]
        }
      ],
      "source": [
        "print(\"Hola Mundo\")\n",
        "print(\"No estoy listo para este ciclo\")"
      ]
    },
    {
      "cell_type": "code",
      "source": [
        " nombre = \"Walter Benavides\"\n",
        " edad = 5\n",
        " print (nombre, edad)\n",
        "\n",
        " edad = \"cinco\"\n",
        " print (\"tu edad: \", edad)"
      ],
      "metadata": {
        "id": "80XoKbwsdSAj",
        "colab": {
          "base_uri": "https://localhost:8080/"
        },
        "outputId": "fd2d3c86-2b8e-4872-db7d-e4a204b06483"
      },
      "execution_count": null,
      "outputs": [
        {
          "output_type": "stream",
          "name": "stdout",
          "text": [
            "Walter Benavides 5\n",
            "tu edad:  cinco\n"
          ]
        }
      ]
    },
    {
      "cell_type": "code",
      "source": [
        "num1 = 5\n",
        "num2 = 8.9\n",
        "suma = num1 + num2\n",
        "print (\"la suma es: \", suma)"
      ],
      "metadata": {
        "id": "mWaCPjqGeymM",
        "colab": {
          "base_uri": "https://localhost:8080/"
        },
        "outputId": "35136174-4008-4be5-f855-294200242d9c"
      },
      "execution_count": null,
      "outputs": [
        {
          "output_type": "stream",
          "name": "stdout",
          "text": [
            "la suma es:  13.9\n"
          ]
        }
      ]
    },
    {
      "cell_type": "code",
      "source": [
        "num1 = float(input(\"num1: \"))\n",
        "num2 = float(input(\"num2: \"))\n",
        "suma = num1 + num2\n",
        "print (\"la suma es:\", suma)"
      ],
      "metadata": {
        "colab": {
          "base_uri": "https://localhost:8080/"
        },
        "id": "lsLgZc6tgMH8",
        "outputId": "6c88a1a4-e50e-48c1-fb6c-f8d49f340a86"
      },
      "execution_count": null,
      "outputs": [
        {
          "output_type": "stream",
          "name": "stdout",
          "text": [
            "num1: 2\n",
            "num2: 3\n",
            "la suma es: 5.0\n"
          ]
        }
      ]
    },
    {
      "cell_type": "code",
      "source": [
        "num1 = float(input(\"num1: \"))\n",
        "num2 = float(input(\"num2: \"))\n",
        "resta = num1 - num2\n",
        "print (\"la resta es:\", resta)"
      ],
      "metadata": {
        "colab": {
          "base_uri": "https://localhost:8080/"
        },
        "id": "z1j2xiddiIFE",
        "outputId": "1453744e-9b55-452c-a0f5-c4978c4df64d"
      },
      "execution_count": null,
      "outputs": [
        {
          "output_type": "stream",
          "name": "stdout",
          "text": [
            "num1: 2\n",
            "num2: 3\n",
            "la resta es: -1.0\n"
          ]
        }
      ]
    },
    {
      "cell_type": "markdown",
      "source": [
        "TIPOS DE DATOS DE PYTHON"
      ],
      "metadata": {
        "id": "Y6XSh9UONOMz"
      }
    },
    {
      "cell_type": "code",
      "source": [
        "#entero\n",
        "num1 = 6\n",
        "print(num1, \"Esto es un numero entero\")\n",
        "print (str (num1) + \" Esto es un numero entero\")\n",
        "\n",
        "#decimal\n",
        "num2 = 7.5\n",
        "print(num2, \"Esto es un numero decimal\")\n",
        "\n",
        "#Booleano\n",
        "esMayor = True\n",
        "print(esMayor, \"Esto es un valor booleano\")\n",
        "\n",
        "#cadena\n",
        "nombre = \"Walter Benavides\"\n",
        "print(nombre, \"Esto es una cadena\")\n",
        "\n",
        "print (nombre,\"Letra inicial\", nombre[0],\"Un valor especifico\", nombre[6],\"Rango\", nombre [0:4],\"Comenzar desde el final\", nombre[-1])\n",
        "print ( nombre[5:len(nombre)], nombre[:4] )\n",
        "print (type(nombre))\n",
        "\n"
      ],
      "metadata": {
        "colab": {
          "base_uri": "https://localhost:8080/"
        },
        "id": "UhBqLxmINUSJ",
        "outputId": "9017f8d9-0ead-485c-bd46-d93e06db2198"
      },
      "execution_count": 5,
      "outputs": [
        {
          "output_type": "stream",
          "name": "stdout",
          "text": [
            "6 Esto es un numero entero\n",
            "6 Esto es un numero entero\n",
            "7.5 Esto es un numero decimal\n",
            "True Esto es un valor booleano\n",
            "Walter Benavides Esto es una cadena\n",
            "Walter Benavides Letra inicial W Un valor especifico   Rango Walt Comenzar desde el final s\n",
            "r Benavides Walt\n",
            "<class 'str'>\n"
          ]
        }
      ]
    },
    {
      "cell_type": "code",
      "source": [
        "#Fecha\n",
        "from datetime import datetime, date, time\n",
        "fecha = datetime.now()\n",
        "print(fecha, fecha.date(), fecha.time())\n",
        "print(type(fecha))\n",
        "\n",
        "fechapersonalizada = date(2025,8,1)\n",
        "print(fechapersonalizada)\n",
        "\n",
        "fecha = \"2025-08-08\"\n",
        "fecha = datetime.strptime(fecha, \"%Y-%m-%d\")\n",
        "print(fecha)\n",
        "\n",
        "print( fecha.strftime(\"%d/%m/%Y\"), \"Regresamos a clases\")\n",
        "\n",
        "fechaNac = input(\"Dime tu fecha de nacimiento en formato d-m-Y: \")\n",
        "fechaNac = datetime.strptime(fechaNac, \"%d-%m-%Y\")\n",
        "print(fechaNac)\n",
        "\n"
      ],
      "metadata": {
        "colab": {
          "base_uri": "https://localhost:8080/"
        },
        "id": "PnP-7ukHTU9t",
        "outputId": "e2aa2fa0-9d0e-41fb-8562-ef8e25c03668"
      },
      "execution_count": 9,
      "outputs": [
        {
          "output_type": "stream",
          "name": "stdout",
          "text": [
            "2025-07-28 14:06:31.410682 2025-07-28 14:06:31.410682\n",
            "<class 'datetime.datetime'>\n",
            "2025-08-01\n",
            "2025-08-08 00:00:00\n",
            "08/08/2025 Regresamos a clases\n",
            "Dime tu fecha de nacimiento en formato d-m-Y: 07-11-2005\n",
            "2005-11-07 00:00:00\n"
          ]
        }
      ]
    }
  ]
}