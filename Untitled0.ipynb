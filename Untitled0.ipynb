{
  "nbformat": 4,
  "nbformat_minor": 0,
  "metadata": {
    "colab": {
      "provenance": [],
      "include_colab_link": true
    },
    "kernelspec": {
      "name": "python3",
      "display_name": "Python 3"
    },
    "language_info": {
      "name": "python"
    }
  },
  "cells": [
    {
      "cell_type": "markdown",
      "metadata": {
        "id": "view-in-github",
        "colab_type": "text"
      },
      "source": [
        "<a href=\"https://colab.research.google.com/github/walter0511/progra_III_2025/blob/main/Untitled0.ipynb\" target=\"_parent\"><img src=\"https://colab.research.google.com/assets/colab-badge.svg\" alt=\"Open In Colab\"/></a>"
      ]
    },
    {
      "cell_type": "code",
      "execution_count": null,
      "metadata": {
        "colab": {
          "base_uri": "https://localhost:8080/"
        },
        "id": "vHo-IDHEcYUl",
        "outputId": "115d2942-d769-483a-baf7-1b28c45fb31e"
      },
      "outputs": [
        {
          "output_type": "stream",
          "name": "stdout",
          "text": [
            "Hola Mundo\n",
            "No estoy listo para este ciclo\n"
          ]
        }
      ],
      "source": [
        "print(\"Hola Mundo\")\n",
        "print(\"No estoy listo para este ciclo\")"
      ]
    },
    {
      "cell_type": "code",
      "source": [
        " nombre = \"Walter Benavides\"\n",
        " edad = 5\n",
        " print (nombre, edad)\n",
        "\n",
        " edad = \"cinco\"\n",
        " print (\"tu edad: \", edad)"
      ],
      "metadata": {
        "id": "80XoKbwsdSAj",
        "colab": {
          "base_uri": "https://localhost:8080/"
        },
        "outputId": "fd2d3c86-2b8e-4872-db7d-e4a204b06483"
      },
      "execution_count": null,
      "outputs": [
        {
          "output_type": "stream",
          "name": "stdout",
          "text": [
            "Walter Benavides 5\n",
            "tu edad:  cinco\n"
          ]
        }
      ]
    },
    {
      "cell_type": "code",
      "source": [
        "num1 = 5\n",
        "num2 = 8.9\n",
        "suma = num1 + num2\n",
        "print (\"la suma es: \", suma)"
      ],
      "metadata": {
        "id": "mWaCPjqGeymM",
        "colab": {
          "base_uri": "https://localhost:8080/"
        },
        "outputId": "35136174-4008-4be5-f855-294200242d9c"
      },
      "execution_count": null,
      "outputs": [
        {
          "output_type": "stream",
          "name": "stdout",
          "text": [
            "la suma es:  13.9\n"
          ]
        }
      ]
    },
    {
      "cell_type": "code",
      "source": [
        "num1 = float(input(\"num1: \"))\n",
        "num2 = float(input(\"num2: \"))\n",
        "suma = num1 + num2\n",
        "print (\"la suma es:\", suma)"
      ],
      "metadata": {
        "colab": {
          "base_uri": "https://localhost:8080/"
        },
        "id": "lsLgZc6tgMH8",
        "outputId": "6c88a1a4-e50e-48c1-fb6c-f8d49f340a86"
      },
      "execution_count": null,
      "outputs": [
        {
          "output_type": "stream",
          "name": "stdout",
          "text": [
            "num1: 2\n",
            "num2: 3\n",
            "la suma es: 5.0\n"
          ]
        }
      ]
    },
    {
      "cell_type": "code",
      "source": [
        "num1 = float(input(\"num1: \"))\n",
        "num2 = float(input(\"num2: \"))\n",
        "resta = num1 - num2\n",
        "print (\"la resta es:\", resta)"
      ],
      "metadata": {
        "colab": {
          "base_uri": "https://localhost:8080/"
        },
        "id": "z1j2xiddiIFE",
        "outputId": "1453744e-9b55-452c-a0f5-c4978c4df64d"
      },
      "execution_count": null,
      "outputs": [
        {
          "output_type": "stream",
          "name": "stdout",
          "text": [
            "num1: 2\n",
            "num2: 3\n",
            "la resta es: -1.0\n"
          ]
        }
      ]
    },
    {
      "cell_type": "markdown",
      "source": [
        "TIPOS DE DATOS DE PYTHON"
      ],
      "metadata": {
        "id": "Y6XSh9UONOMz"
      }
    },
    {
      "cell_type": "code",
      "source": [
        "#entero\n",
        "num1 = 6\n",
        "print(num1, \"Esto es un numero entero\")\n",
        "print (str (num1) + \" Esto es un numero entero\")\n",
        "\n",
        "#decimal\n",
        "num2 = 7.5\n",
        "print(num2, \"Esto es un numero decimal\")\n",
        "\n",
        "#Booleano\n",
        "esMayor = True\n",
        "print(esMayor, \"Esto es un valor booleano\")\n",
        "\n",
        "#cadena\n",
        "nombre = \"Walter Benavides\"\n",
        "print(nombre, \"Esto es una cadena\")\n",
        "\n",
        "print (nombre,\"Letra inicial\", nombre[0],\"Un valor especifico\", nombre[6],\"Rango\", nombre [0:4],\"Comenzar desde el final\", nombre[-1])\n",
        "print ( nombre[5:len(nombre)], nombre[:4] )\n",
        "print (type(nombre))\n",
        "\n"
      ],
      "metadata": {
        "colab": {
          "base_uri": "https://localhost:8080/"
        },
        "id": "UhBqLxmINUSJ",
        "outputId": "9017f8d9-0ead-485c-bd46-d93e06db2198"
      },
      "execution_count": null,
      "outputs": [
        {
          "output_type": "stream",
          "name": "stdout",
          "text": [
            "6 Esto es un numero entero\n",
            "6 Esto es un numero entero\n",
            "7.5 Esto es un numero decimal\n",
            "True Esto es un valor booleano\n",
            "Walter Benavides Esto es una cadena\n",
            "Walter Benavides Letra inicial W Un valor especifico   Rango Walt Comenzar desde el final s\n",
            "r Benavides Walt\n",
            "<class 'str'>\n"
          ]
        }
      ]
    },
    {
      "cell_type": "code",
      "source": [
        "#Fecha\n",
        "from datetime import datetime, date, time\n",
        "fecha = datetime.now()\n",
        "print(fecha, fecha.date(), fecha.time())\n",
        "print(type(fecha))\n",
        "\n",
        "fechapersonalizada = date(2025,8,1)\n",
        "print(fechapersonalizada)\n",
        "\n",
        "fecha = \"2025-08-08\"\n",
        "fecha = datetime.strptime(fecha, \"%Y-%m-%d\")\n",
        "print(fecha)\n",
        "\n",
        "print( fecha.strftime(\"%d/%m/%Y\"), \"Regresamos a clases\")\n",
        "\n",
        "fechaNac = input(\"Dime tu fecha de nacimiento en formato d-m-Y: \")\n",
        "fechaNac = datetime.strptime(fechaNac, \"%d-%m-%Y\")\n",
        "print(fechaNac)\n",
        "\n"
      ],
      "metadata": {
        "colab": {
          "base_uri": "https://localhost:8080/"
        },
        "id": "PnP-7ukHTU9t",
        "outputId": "e2aa2fa0-9d0e-41fb-8562-ef8e25c03668"
      },
      "execution_count": null,
      "outputs": [
        {
          "output_type": "stream",
          "name": "stdout",
          "text": [
            "2025-07-28 14:06:31.410682 2025-07-28 14:06:31.410682\n",
            "<class 'datetime.datetime'>\n",
            "2025-08-01\n",
            "2025-08-08 00:00:00\n",
            "08/08/2025 Regresamos a clases\n",
            "Dime tu fecha de nacimiento en formato d-m-Y: 07-11-2005\n",
            "2005-11-07 00:00:00\n"
          ]
        }
      ]
    },
    {
      "cell_type": "markdown",
      "source": [
        "FUNCIONES EN PYTHON"
      ],
      "metadata": {
        "id": "YLMy5nnhXGf3"
      }
    },
    {
      "cell_type": "code",
      "source": [
        "def suma(num1, num2):\n",
        "  return num1 + num2"
      ],
      "metadata": {
        "id": "EkoIbqgEXKzP"
      },
      "execution_count": null,
      "outputs": []
    },
    {
      "cell_type": "code",
      "source": [
        "print(\"La suma de 5 + 8 = \", suma(5,8))"
      ],
      "metadata": {
        "colab": {
          "base_uri": "https://localhost:8080/"
        },
        "id": "CyM0NcReXxwJ",
        "outputId": "4a747289-23df-40d5-ff7b-38e79cc6f2fb"
      },
      "execution_count": null,
      "outputs": [
        {
          "output_type": "stream",
          "name": "stdout",
          "text": [
            "La suma de 5 + 8 =  10.0\n"
          ]
        }
      ]
    },
    {
      "cell_type": "code",
      "source": [
        "num1 = float(input(\"num1: \"))\n",
        "num2 = float(input(\"num2: \"))\n",
        "respuesta = suma(num1,num2)\n",
        "print (\"la suma es:\", respuesta)"
      ],
      "metadata": {
        "colab": {
          "base_uri": "https://localhost:8080/"
        },
        "id": "pX0cM0k9YY_e",
        "outputId": "a1b526bc-c115-4adf-d288-53c9ab6e58bb"
      },
      "execution_count": null,
      "outputs": [
        {
          "output_type": "stream",
          "name": "stdout",
          "text": [
            "num1: 2\n",
            "num2: 3\n",
            "la suma es: 5.0\n"
          ]
        }
      ]
    },
    {
      "cell_type": "code",
      "source": [
        "def resta(num1, num2):\n",
        "  return num1 - num2\n",
        "\n",
        "num1 = float(input(\"ingrese el primer numero: \"))\n",
        "num2 = float(input(\"ingrese el segundo numero: \"))\n",
        "respuesta = resta(num1,num2)\n",
        "print (\"la resta es:\", respuesta)"
      ],
      "metadata": {
        "colab": {
          "base_uri": "https://localhost:8080/"
        },
        "id": "7tE7C8GOYqnc",
        "outputId": "fd87a0df-7dd9-4e2b-cedf-8e66ec4103b8"
      },
      "execution_count": null,
      "outputs": [
        {
          "output_type": "stream",
          "name": "stdout",
          "text": [
            "ingrese el primer numero: 2\n",
            "ingrese el segundo numero: 2\n",
            "la resta es: 0.0\n"
          ]
        }
      ]
    },
    {
      "cell_type": "code",
      "source": [
        "#Hacer un ejercicios e python haciendo uso de las funciones de usuario, que convierta grados celcius a farenheit."
      ],
      "metadata": {
        "id": "R3cvQ99MUyTP"
      },
      "execution_count": null,
      "outputs": []
    },
    {
      "cell_type": "code",
      "source": [
        "def celciusFarenheit(c):\n",
        "  return c*1.8 + 32\n",
        "c = int (input(\"Grados c: \"))\n",
        "f = celciusFarenheit(c)\n",
        "print(\"F:\", f)"
      ],
      "metadata": {
        "colab": {
          "base_uri": "https://localhost:8080/"
        },
        "id": "580-RWL0Ya3b",
        "outputId": "8ffbe01a-df6a-4679-d10e-bdf3224c28dd"
      },
      "execution_count": null,
      "outputs": [
        {
          "output_type": "stream",
          "name": "stdout",
          "text": [
            "Grados c: 38\n",
            "F: 100.4\n"
          ]
        }
      ]
    },
    {
      "cell_type": "code",
      "source": [
        "#Hacer un ejercicios e python haciendo uso de las funciones de usuario, que convierta grados farenheit a celcius."
      ],
      "metadata": {
        "id": "DthFW0AsfgUV"
      },
      "execution_count": null,
      "outputs": []
    },
    {
      "cell_type": "code",
      "source": [
        "def FarenheitCelcius(f):\n",
        "  return (f-32) * 5/9\n",
        "f = float(input(\"Grados f: \"))\n",
        "c = FarenheitCelcius(f)\n",
        "print(\"C:\", c)\n"
      ],
      "metadata": {
        "colab": {
          "base_uri": "https://localhost:8080/"
        },
        "id": "c26JDB9yZtUB",
        "outputId": "eea64ff5-1fc9-4f28-b37c-99206cdaba32"
      },
      "execution_count": null,
      "outputs": [
        {
          "output_type": "stream",
          "name": "stdout",
          "text": [
            "Grados f: 100.4\n",
            "C: 38.0\n"
          ]
        }
      ]
    },
    {
      "cell_type": "code",
      "source": [
        "#Hacer un ejercicios e python haciendo uso de las funciones de usuario, que convierta grados celcius a Kalvin"
      ],
      "metadata": {
        "id": "AsBED9apfHbm"
      },
      "execution_count": null,
      "outputs": []
    },
    {
      "cell_type": "code",
      "source": [
        "def CelciusKalvin(c):\n",
        "  return (c + 273.15)\n",
        "c = float(input(\"Grados c: \"))\n",
        "k = CelciusKalvin(c)\n",
        "print(\"K:\", k)\n"
      ],
      "metadata": {
        "colab": {
          "base_uri": "https://localhost:8080/"
        },
        "id": "ZPgAZfhbfk3V",
        "outputId": "b38eb8e2-87d9-4a9e-f8e2-861b4e0036e9"
      },
      "execution_count": null,
      "outputs": [
        {
          "output_type": "stream",
          "name": "stdout",
          "text": [
            "Grados c: 32\n",
            "K: 305.15\n"
          ]
        }
      ]
    },
    {
      "cell_type": "code",
      "source": [
        " #hacer ejercicio de python haciendo uso de funciones de usuario, que calcule\n",
        " #el sueldo de u empleado, segun el numero de hrs trabajadas y el valor por hora"
      ],
      "metadata": {
        "id": "gAjbRjgLhfSX"
      },
      "execution_count": null,
      "outputs": []
    },
    {
      "cell_type": "code",
      "source": [
        "def sueldo(numHrs, valorXhr):\n",
        "  sueldo = numHrs * valorXhr * 30\n",
        "  return sueldo\n"
      ],
      "metadata": {
        "id": "pO03nW4ihzp6"
      },
      "execution_count": null,
      "outputs": []
    },
    {
      "cell_type": "code",
      "source": [
        "numHrs = float(input(\"Horas trabajadas: \"))\n",
        "valorXhr = float(input(\"Valor por hora: \"))\n",
        "sueldo = sueldo(numHrs, valorXhr)\n",
        "print(\"Sueldo: \", sueldo)"
      ],
      "metadata": {
        "colab": {
          "base_uri": "https://localhost:8080/"
        },
        "id": "qX-NxLqcj6Lo",
        "outputId": "ec1cfc58-2fcb-4525-f9f3-8c940285f888"
      },
      "execution_count": null,
      "outputs": [
        {
          "output_type": "stream",
          "name": "stdout",
          "text": [
            "Horas trabajadas: 5\n",
            "Valor por hora: 3\n",
            "Sueldo:  450.0\n"
          ]
        }
      ]
    },
    {
      "cell_type": "code",
      "source": [
        " #hacer ejercicio de python haciendo uso de funciones de usuario, que permta elevar un numero a un exponete"
      ],
      "metadata": {
        "id": "Uj-8Wb9VkHBR"
      },
      "execution_count": null,
      "outputs": []
    },
    {
      "cell_type": "code",
      "source": [
        "def expoenciacion (b,e):\n",
        "  return b ** e\n",
        "\n",
        "b = float(input(\"Base: \"))\n",
        "e = float(input(\"Exponente: \"))\n",
        "\n",
        "respuesta = expoenciacion(b,e)\n",
        "print(\"El numero: \",b, \"elevado a\", e,\"La respuesta es: \", respuesta)"
      ],
      "metadata": {
        "colab": {
          "base_uri": "https://localhost:8080/"
        },
        "id": "CIRk2RUZkQx5",
        "outputId": "44c46cbd-d6a8-4299-dd70-0f2886b2535f"
      },
      "execution_count": null,
      "outputs": [
        {
          "output_type": "stream",
          "name": "stdout",
          "text": [
            "Base: 8\n",
            "Exponente: 3\n",
            "El numero:  8.0 elevado a 3.0 La respuesta es:  512.0\n"
          ]
        }
      ]
    },
    {
      "cell_type": "markdown",
      "source": [
        "**FUNCIONES ANONIMAS**"
      ],
      "metadata": {
        "id": "YccMqKDfP2OS"
      }
    },
    {
      "cell_type": "code",
      "source": [
        "def suma(a,b):\n",
        "  return a+b\n",
        "\n",
        "a = float(input(\"num1: \"))\n",
        "b = float(input(\"num2: \"))\n",
        "\n",
        "suma = suma(a,b)\n",
        "print(\"La suma es: \", suma)"
      ],
      "metadata": {
        "colab": {
          "base_uri": "https://localhost:8080/"
        },
        "id": "Y_7cfuxQP6pQ",
        "outputId": "f96a4221-adbe-4d71-a0aa-ee734ebf8b27"
      },
      "execution_count": null,
      "outputs": [
        {
          "output_type": "stream",
          "name": "stdout",
          "text": [
            "num1: 4\n",
            "num2: 4\n",
            "La suma es:  8.0\n"
          ]
        }
      ]
    },
    {
      "cell_type": "code",
      "source": [
        "A = float(input(\"num1: \"))\n",
        "B = float(input(\"num2: \"))\n",
        "\n",
        "sum = lambda A,B: A+B\n",
        "print( \"La suma de\", A , \"mas b\", B, \"es igual\", sum(A,B) )"
      ],
      "metadata": {
        "colab": {
          "base_uri": "https://localhost:8080/"
        },
        "id": "5C5ykIf8QYNq",
        "outputId": "70c93f7d-8fbc-474d-9cd9-bee9f86452eb"
      },
      "execution_count": null,
      "outputs": [
        {
          "output_type": "stream",
          "name": "stdout",
          "text": [
            "num1: 2\n",
            "num2: 3\n",
            "La suma de 2.0 mas b 3.0 es igual 5.0\n"
          ]
        }
      ]
    },
    {
      "cell_type": "markdown",
      "source": [
        "FUNCIONES PRECONSTRUIDAS"
      ],
      "metadata": {
        "id": "JQVJkZBOTEXS"
      }
    },
    {
      "cell_type": "code",
      "source": [
        "def extraerPrimeraLetra(dia):\n",
        "  return dia[0]\n",
        "\n",
        "\n",
        "#map\n",
        "semana = [\"Domingo\", \"Lunes\", \"Martes\", \"Miercoles\", \"Jueves\", \"Viernes\", \"Sabado\"]\n",
        "\n",
        "primeraLetraDia = map(lambda dia: dia[0], semana)\n",
        "print(list(primeraLetraDia))\n",
        "\n",
        "mayusSemana = map(lambda dia: dia.upper(), semana)\n",
        "print(list(mayusSemana))\n",
        "\n",
        "print( list(map(extraerPrimeraLetra, semana)) )"
      ],
      "metadata": {
        "colab": {
          "base_uri": "https://localhost:8080/"
        },
        "id": "WXfMlgiETH81",
        "outputId": "31c18a55-4012-404c-bdb3-f48d2e3ef004"
      },
      "execution_count": null,
      "outputs": [
        {
          "output_type": "stream",
          "name": "stdout",
          "text": [
            "['D', 'L', 'M', 'M', 'J', 'V', 'S']\n",
            "['DOMINGO', 'LUNES', 'MARTES', 'MIERCOLES', 'JUEVES', 'VIERNES', 'SABADO']\n",
            "['D', 'L', 'M', 'M', 'J', 'V', 'S']\n"
          ]
        }
      ]
    },
    {
      "cell_type": "code",
      "source": [
        "numeros = [2,4,6,8,7,9]\n",
        "potencia = int(input(\"Potencia: \"))\n",
        "numeroPotencia = map(lambda num: num**potencia, numeros)\n",
        "\n",
        "print(list(numeroPotencia))"
      ],
      "metadata": {
        "colab": {
          "base_uri": "https://localhost:8080/"
        },
        "id": "oxiHIlFJnghN",
        "outputId": "a7306623-cbb6-4b36-e7e3-f9bfd792517d"
      },
      "execution_count": null,
      "outputs": [
        {
          "output_type": "stream",
          "name": "stdout",
          "text": [
            "Potencia: 4\n",
            "[16, 256, 1296, 4096, 2401, 6561]\n"
          ]
        }
      ]
    },
    {
      "cell_type": "code",
      "source": [
        "ntabla  = int(input(\"Tabla:\"))\n",
        "numeros = [1,2,3,4,5,6,7,8,9,10]\n",
        "tabla = map(lambda num: num*ntabla, numeros)\n",
        "\n",
        "print(list(tabla))"
      ],
      "metadata": {
        "colab": {
          "base_uri": "https://localhost:8080/"
        },
        "id": "mCYa_GmLoABn",
        "outputId": "d5e9152f-2c3e-42df-c29c-b3212eff7fa0"
      },
      "execution_count": null,
      "outputs": [
        {
          "output_type": "stream",
          "name": "stdout",
          "text": [
            "Tabla:2\n",
            "[2, 4, 6, 8, 10, 12, 14, 16, 18, 20]\n"
          ]
        }
      ]
    },
    {
      "cell_type": "code",
      "source": [
        "serie = [5,6,9,2,7,8]\n",
        "pares = filter(lambda num: num%2==0, serie) #% ===> a modulo, obtener el residuo.\n",
        "\n",
        "print(list(pares))\n",
        "\n",
        "impares = filter(lambda num: num%2!=0, serie)\n",
        "\n",
        "print(list(impares))\n"
      ],
      "metadata": {
        "colab": {
          "base_uri": "https://localhost:8080/"
        },
        "id": "6sPs6USnoeI3",
        "outputId": "07966ee1-a1bb-4a52-8649-2e2a1873786e"
      },
      "execution_count": null,
      "outputs": [
        {
          "output_type": "stream",
          "name": "stdout",
          "text": [
            "[6, 2, 8]\n",
            "[5, 9, 7]\n"
          ]
        }
      ]
    },
    {
      "cell_type": "code",
      "source": [
        "\n",
        "serieUser = input(\"Serie: \") # \"5,2,8,1\" --> serie[0]=\"5\"; serie[1]=\"2\"; etc..\n",
        "serieUser = serieUser.split(\",\")\n",
        "\n",
        "pares = filter(lambda num: int(num)%2==0, serieUser)\n",
        "impares = filter(lambda num: int(num)%2!=0, serieUser)\n",
        "\n",
        "print(\"Pares: \",list(pares))\n",
        "print(\"Impares: \", list(impares))"
      ],
      "metadata": {
        "colab": {
          "base_uri": "https://localhost:8080/"
        },
        "id": "5HF7xLSxovoa",
        "outputId": "5d763edc-d1b3-4155-b89c-c10ba2fa20ba"
      },
      "execution_count": null,
      "outputs": [
        {
          "output_type": "stream",
          "name": "stdout",
          "text": [
            "Serie: 3,4,5,6,2,1,5\n",
            "Pares:  ['4', '6', '2']\n",
            "Impares:  ['3', '5', '1', '5']\n"
          ]
        }
      ]
    },
    {
      "cell_type": "markdown",
      "source": [
        "Hacer un ejercicio en python usando la funcion filter y lambda que de una seria de notas introducidas por el usuario, establezca cuantos pasan la materia (>6) y cuantos se quedan (<6)."
      ],
      "metadata": {
        "id": "d17Qwo6fpIle"
      }
    },
    {
      "cell_type": "code",
      "source": [
        "#reduce\n",
        "from functools import reduce\n",
        "numeros = [5,4,9,6,8,2,3]\n",
        "suma = reduce(lambda num, acum: num+acum, numeros)\n",
        "\n",
        "sumaPares = reduce(lambda acum, num: acum + num, filter(lambda num: num%2==0, numeros))\n",
        "sumaPar = reduce(lambda acum, num: acum + num if num%2==0 else acum, numeros,0)\n",
        "\n",
        "print(\"La suma es: \", suma)\n",
        "print(\"La suma de los pares es: \", sumaPares)\n",
        "print(\"Suma Pares: \", sumaPar)"
      ],
      "metadata": {
        "colab": {
          "base_uri": "https://localhost:8080/"
        },
        "id": "QSvu7cQQbE5W",
        "outputId": "976a439b-6d75-4000-f4e3-1d83854ebeb3"
      },
      "execution_count": null,
      "outputs": [
        {
          "output_type": "stream",
          "name": "stdout",
          "text": [
            "La suma es:  37\n",
            "La suma de los pares es:  20\n",
            "Suma Pares:  20\n"
          ]
        }
      ]
    },
    {
      "cell_type": "code",
      "source": [
        "\n",
        "notas = input(\"Ingrese las notas de los alumnos: \")\n",
        "\n",
        "\n",
        "try:\n",
        "\n",
        "    notas = [float(nota.strip()) for nota in notas.split(',')]\n",
        "    aprobados = list(filter(lambda nota: nota > 6, notas))\n",
        "\n",
        "    reprobados = list(filter(lambda nota: nota < 6, notas))\n",
        "\n",
        "\n",
        "    nota_seis = list(filter(lambda nota: nota == 6, notas))\n",
        "\n",
        "    print(\"\\n--- Resumen de Notas ---\")\n",
        "    print(f\"Notas ingresadas: {notas}\")\n",
        "    print(f\"Alumnos que aprobaron: {len(aprobados)} (Notas: {aprobados})\")\n",
        "    print(f\"Alumnos que reprobaron: {len(reprobados)} (Notas: {reprobados})\")\n",
        "\n",
        "except ValueError:\n",
        "    print(\"Error: Asegúrate de ingresar solo números separados por comas.\")\n"
      ],
      "metadata": {
        "colab": {
          "base_uri": "https://localhost:8080/"
        },
        "id": "xaqnjdOzo6UC",
        "outputId": "dedfdd3d-83b6-4467-f283-6d14b9e01bb6"
      },
      "execution_count": null,
      "outputs": [
        {
          "output_type": "stream",
          "name": "stdout",
          "text": [
            "Ingrese las notas de los alumnos: 2,3,4,4,5,8,9\n",
            "\n",
            "--- Resumen de Notas ---\n",
            "Notas ingresadas: [2.0, 3.0, 4.0, 4.0, 5.0, 8.0, 9.0]\n",
            "Alumnos que aprobaron: 2 (Notas: [8.0, 9.0])\n",
            "Alumnos que reprobaron: 5 (Notas: [2.0, 3.0, 4.0, 4.0, 5.0])\n"
          ]
        }
      ]
    },
    {
      "cell_type": "code",
      "source": [
        "#reduce\n",
        "from functools import reduce\n",
        "\n",
        "numeros = [5,4,9,6,8,2,3]\n",
        "suma = reduce(lambda num, acum: num+acum, numeros)\n",
        "\n",
        "sumaPares = reduce(lambda num, acum: num+acum, filter(lambda num: num%2==0, numeros))\n",
        "sumaPar = reduce(lambda num, acum: acum + num if num%2==0 else 0, numeros) #pendiente de revisar...\n",
        "\n",
        "print(\"La suma es: \", suma)\n",
        "print(\"La suma de los pares es: \", sumaPares)\n",
        "print(\"Suma Pares: \", sumaPar)"
      ],
      "metadata": {
        "colab": {
          "base_uri": "https://localhost:8080/"
        },
        "id": "fexeEYDIpVgH",
        "outputId": "a17aab10-f5df-4d9e-dd03-c1d22a4bbf00"
      },
      "execution_count": null,
      "outputs": [
        {
          "output_type": "stream",
          "name": "stdout",
          "text": [
            "La suma es:  37\n",
            "La suma de los pares es:  20\n",
            "Suma Pares:  13\n"
          ]
        }
      ]
    },
    {
      "cell_type": "markdown",
      "source": [
        "**TUPLAS**"
      ],
      "metadata": {
        "id": "wDcAZcaPe9jm"
      }
    },
    {
      "cell_type": "code",
      "source": [
        "tupla = (1,2,3,4,5)\n",
        "#print[0]=1\n",
        "print (\"Tupla:\", tupla, \"Primer elemento:\", tupla[0], \"El Numero cinco parece \", tupla.count(5))\n",
        "print (\"Ultimo elemento: \", tupla[-1])\n",
        "print(\"Rango: \", tupla [0:5])\n"
      ],
      "metadata": {
        "colab": {
          "base_uri": "https://localhost:8080/"
        },
        "id": "tSluUxMRfGQD",
        "outputId": "447b1b6a-7f92-4bf0-8156-f77c89bcb19d"
      },
      "execution_count": null,
      "outputs": [
        {
          "output_type": "stream",
          "name": "stdout",
          "text": [
            "Tupla: (1, 2, 3, 4, 5) Primer elemento: 1 El Numero cinco parece  1\n",
            "Ultimo elemento:  5\n",
            "Rango:  (1, 2, 3, 4, 5)\n"
          ]
        }
      ]
    },
    {
      "cell_type": "code",
      "source": [
        "import datetime\n",
        "fecha = datetime.date.today()\n",
        "\n",
        "semana = (\"Domingo\", \"Lunes\", \"Martes\", \"Miercoles\", \"Jueves\", \"Viernes\", \"Sabado\")\n",
        "meses = (\"\",\"Enero\", \"Febrero\", \"Marzo\", \"Abril\", \"Mayo\", \"Junio\", \"Julio\", \"Agosto\", \"Septiembre\", \"Octubre\", \"Noviembre\", \"Diciembre\")\n",
        "\n",
        "dia = fecha.day\n",
        "mes = fecha.month\n",
        "year = fecha.year\n",
        "diaSemana = semana[fecha.isoweekday()]\n",
        "\n",
        "print(diaSemana, dia, \"de\", meses[mes], \"del\", year)\n",
        "print(fecha, fecha.isoweekday(), diaSemana)\n",
        "print(dia, mes, year)"
      ],
      "metadata": {
        "colab": {
          "base_uri": "https://localhost:8080/"
        },
        "id": "nypmnpKwimXK",
        "outputId": "3597e9d2-3c70-458b-d621-d10426fa2125"
      },
      "execution_count": null,
      "outputs": [
        {
          "output_type": "stream",
          "name": "stdout",
          "text": [
            "Martes 12 de Agosto del 2025\n",
            "2025-08-12 2 Martes\n",
            "12 8 2025\n"
          ]
        }
      ]
    },
    {
      "cell_type": "markdown",
      "source": [
        "LISTAS"
      ],
      "metadata": {
        "id": "MGnvhf1Gl-EQ"
      }
    },
    {
      "cell_type": "code",
      "source": [
        "lista = [5,8,9,4, \"Progra III\", True, [4,8,9,[8,9,4]]]\n",
        "print(lista)"
      ],
      "metadata": {
        "colab": {
          "base_uri": "https://localhost:8080/"
        },
        "id": "SG2zHy5-l9K0",
        "outputId": "9850e664-da9b-46f8-e1ac-994d8b3ecd70"
      },
      "execution_count": null,
      "outputs": [
        {
          "output_type": "stream",
          "name": "stdout",
          "text": [
            "[5, 8, 9, 4, 'Progra III', True, [4, 8, 9, [8, 9, 4]]]\n"
          ]
        }
      ]
    },
    {
      "cell_type": "code",
      "source": [
        "#Hacer un ejercicios en python que otenga la nota final de progra II del computo I, haciendo uso de las listas y de las tuplas\n",
        "def calcularPromedio(nota, notas):\n",
        "  return notas[1]*notas[2]+ nota\n",
        "\n",
        "from functools import reduce\n",
        "\n",
        "notas = [[\"Lab1\", 10, 0.3],[\"Lab2\", 10,0.3],[\"Parcial\",10,0.4]]\n",
        "prom = reduce(calcularPromedio, notas, 0)\n",
        "print(\"Nota Final: \", prom)"
      ],
      "metadata": {
        "colab": {
          "base_uri": "https://localhost:8080/"
        },
        "id": "GmMXFhRLnMoH",
        "outputId": "320be9a8-0c50-4e77-c855-3dfd0cec7167"
      },
      "execution_count": null,
      "outputs": [
        {
          "output_type": "stream",
          "name": "stdout",
          "text": [
            "Nota Final:  10.0\n"
          ]
        }
      ]
    },
    {
      "cell_type": "code",
      "source": [
        "def calcular_nota(notas):\n",
        "  final ="
      ],
      "metadata": {
        "id": "PSbvFa-Qqt9K"
      },
      "execution_count": null,
      "outputs": []
    },
    {
      "cell_type": "code",
      "source": [
        "#Hacer un ejercicio en python que obtenga la nota final de Progra III del computo I,\n",
        "#donde el usuario va introducir las notas, haciendo uso de las listas y de las funciones.\n",
        "\n",
        "from functools import reduce\n",
        "\n",
        "def calcularPromedio(notas):\n",
        "  return reduce(lambda total, item: total + item[1] * item[2], notas, 0)\n",
        "\n",
        "\n",
        "notas = []\n",
        "for i in range(1,4):\n",
        "  nota = float(input(\"Act: \"+ str(i) + \": \"))\n",
        "  porcentaje = float(input(\"Porcentaje: \"))\n",
        "  notas.append([\"Act. \"+ str(i), nota, porcentaje])\n",
        "\n",
        "prom = calcularPromedio(notas) # Corrected function name\n",
        "print(\"Nota Final de C1 \", prom)"
      ],
      "metadata": {
        "colab": {
          "base_uri": "https://localhost:8080/"
        },
        "id": "7mL6XEitTD1S",
        "outputId": "f53e622a-aae2-4bc2-e3cb-a6918f401911"
      },
      "execution_count": 4,
      "outputs": [
        {
          "output_type": "stream",
          "name": "stdout",
          "text": [
            "Act: 1: 3\n",
            "Porcentaje: 0.3\n",
            "Act: 2: 2\n",
            "Porcentaje: 0.3\n",
            "Act: 3: 10\n",
            "Porcentaje: 0.4\n",
            "Nota Final de C1  5.5\n"
          ]
        }
      ]
    },
    {
      "cell_type": "code",
      "source": [
        "#sort\n",
        "valores = [5,8,9,1,3,4,7]\n",
        "\n",
        "print(valores, \"Lista original\")\n",
        "\n",
        "valores.sort()\n",
        "print(valores, \"POrdenados de menor a mayor\")\n",
        "\n",
        "valores.reverse()\n",
        "print(valores, \"Ordenados de mayor a menor\")\n",
        "\n",
        "#valores.sort(reverse=True)\n",
        "#print(valores, \"Ordenados de mayor a menor\")"
      ],
      "metadata": {
        "colab": {
          "base_uri": "https://localhost:8080/"
        },
        "id": "EsjhOyV7UTwz",
        "outputId": "512174f8-33fd-4992-9e53-75263a107845"
      },
      "execution_count": 5,
      "outputs": [
        {
          "output_type": "stream",
          "name": "stdout",
          "text": [
            "[5, 8, 9, 1, 3, 4, 7] Lista original\n",
            "[1, 3, 4, 5, 7, 8, 9] POrdenados de menor a mayor\n",
            "[9, 8, 7, 5, 4, 3, 1] Ordenados de mayor a menor\n"
          ]
        }
      ]
    },
    {
      "cell_type": "markdown",
      "source": [
        "DICCIONARIO-JSON"
      ],
      "metadata": {
        "id": "DQQLDGajUbB1"
      }
    },
    {
      "cell_type": "code",
      "source": [
        "persona = {\n",
        "  \"codigo\": \"USIS018804\",\n",
        "  \"nombre\": \"Luis Hernandez\",\n",
        "  \"materias\": [\n",
        "    {\n",
        "      \"codigo\": 611,\n",
        "      \"nombre\": \"Programacion I\",\n",
        "      \"notas\":{\n",
        "        \"c1\": {\"lab1\":8, \"lab2\":9.9, \"parcial\":10},\n",
        "        \"c2\": {\"lab1\":7.78, \"lab2\":6.5, \"parcial\":8},\n",
        "        \"c3\": {\"lab1\":10, \"lab2\":9, \"parcial\":9}\n",
        "      }\n",
        "    },\n",
        "    {\n",
        "      \"codigo\": 612,\n",
        "      \"nombre\": \"Programacion II\",\n",
        "      \"notas\":{\n",
        "        \"c1\": {\"lab1\":5, \"lab2\": 7, \"parcial\":9},\n",
        "        \"c2\": {\"lab1\":9, \"lab2\": 6, \"parcial\": 10},\n",
        "        \"c3\": {\"lab1\":10, \"lab2\": 10, \"parcial\": 9}\n",
        "      }\n",
        "    }\n",
        "  ]\n",
        "}\n",
        "print(persona[\"nombre\"], \"->\", persona[\"materias\"][0][\"nombre\"], \"-> CI: \",\n",
        "      persona[\"materias\"][0][\"notas\"][\"c1\"],\n",
        "      persona[\"materias\"][0][\"notas\"][\"c1\"][\"lab1\"]\n",
        "      )"
      ],
      "metadata": {
        "colab": {
          "base_uri": "https://localhost:8080/"
        },
        "id": "i0p-hbgiUZvH",
        "outputId": "3096dd2f-b848-4ea1-9f00-afefb8b8d232"
      },
      "execution_count": 6,
      "outputs": [
        {
          "output_type": "stream",
          "name": "stdout",
          "text": [
            "Luis Hernandez -> Programacion I -> CI:  {'lab1': 8, 'lab2': 9.9, 'parcial': 10} 8\n"
          ]
        }
      ]
    },
    {
      "cell_type": "markdown",
      "source": [
        "ESTRUCTURAS DE CONTROL"
      ],
      "metadata": {
        "id": "7ThQNVyNUraV"
      }
    },
    {
      "cell_type": "code",
      "source": [
        "#if\n",
        "#hacer un ejercicio en python que permita clasificar las edades segun su rango\n",
        "edad = int(input(\"Edad: \"))\n",
        "if(edad<0):\n",
        "  print(\"Error al ingresar la edad, solo valores positivos.\")\n",
        "elif(edad<=2):\n",
        "  print(\"Eres un bebe...\")\n",
        "elif(edad<=11):\n",
        "  print(\"Eres un niño...\")\n",
        "elif(edad<18):\n",
        "  print(\"Eres un adolescente...\")\n",
        "elif(edad<65):\n",
        "  print(\"Eres un adulto responsable...\")\n",
        "elif(edad<85):\n",
        "  print(\"Eres un adulto mayor...\")\n",
        "else:\n",
        "  print(\"Larga vida...\")"
      ],
      "metadata": {
        "colab": {
          "base_uri": "https://localhost:8080/"
        },
        "id": "-UUANN3KUocA",
        "outputId": "a35c0ac0-5688-48cc-a7e2-a442c901d684"
      },
      "execution_count": 7,
      "outputs": [
        {
          "output_type": "stream",
          "name": "stdout",
          "text": [
            "Edad: 20\n",
            "Eres un adulto responsable...\n"
          ]
        }
      ]
    },
    {
      "cell_type": "markdown",
      "source": [
        "TAREA"
      ],
      "metadata": {
        "id": "9rGCstSffdyt"
      }
    },
    {
      "cell_type": "code",
      "source": [
        "import sys\n",
        "\n",
        "# =========================================================\n",
        "# Ejercicios prácticos en Python\n",
        "# Este código combina los ejercicios originales con un\n",
        "# sistema de conversores más detallado.\n",
        "# =========================================================\n",
        "\n",
        "# =========================================================\n",
        "# 1. Cálculo de sueldo neto y deducciones\n",
        "# =========================================================\n",
        "def calcular_sueldo_neto():\n",
        "    \"\"\"\n",
        "    Pide al usuario un sueldo bruto y calcula las deducciones y el sueldo neto.\n",
        "    \"\"\"\n",
        "    print(\"\\n--- 1. Cálculo de Sueldo y Deducciones ---\")\n",
        "    try:\n",
        "        sueldo_bruto = float(input(\"Ingrese el sueldo bruto: \"))\n",
        "    except ValueError:\n",
        "        print(\"Entrada inválida. Por favor, ingrese un número.\")\n",
        "        return\n",
        "\n",
        "    # Tasas de deducción\n",
        "    tasa_isss = 0.03\n",
        "    tasa_afp = 0.0625\n",
        "\n",
        "    # Cálculo de las deducciones\n",
        "    descuento_isss = sueldo_bruto * tasa_isss\n",
        "    descuento_afp = sueldo_bruto * tasa_afp\n",
        "\n",
        "    # Cálculo del ISR (simplificado para el ejemplo)\n",
        "    if sueldo_bruto > 500:\n",
        "        descuento_isr = (sueldo_bruto - 500) * 0.10\n",
        "    else:\n",
        "        descuento_isr = 0.00\n",
        "\n",
        "    # Suma de todas las deducciones\n",
        "    total_deducciones = descuento_isss + descuento_afp + descuento_isr\n",
        "    sueldo_neto = sueldo_bruto - total_deducciones\n",
        "\n",
        "    # Impresión de los resultados\n",
        "    print(f\"\\nSueldo Bruto: ${sueldo_bruto:,.2f}\")\n",
        "    print(\"--- Deducciones ---\")\n",
        "    print(f\"  Descuento ISSS (3%): ${descuento_isss:,.2f}\")\n",
        "    print(f\"  Descuento AFP (6.25%): ${descuento_afp:,.2f}\")\n",
        "    print(f\"  Descuento ISR: ${descuento_isr:,.2f}\")\n",
        "    print(\"--------------------\")\n",
        "    print(f\"Total Deducciones: ${total_deducciones:,.2f}\")\n",
        "    print(f\"Sueldo Neto: ${sueldo_neto:,.2f}\")\n",
        "\n",
        "# =========================================================\n",
        "# 2. Cálculo de tarifa por metros de agua\n",
        "# =========================================================\n",
        "def calcular_tarifa_agua():\n",
        "    \"\"\"\n",
        "    Pide al usuario el consumo de metros de agua y calcula el costo.\n",
        "    \"\"\"\n",
        "    print(\"\\n--- 2. Tarifa por Consumo de Agua ---\")\n",
        "    try:\n",
        "        metros_consumidos = int(input(\"Ingrese el número de metros de agua consumidos: \"))\n",
        "    except ValueError:\n",
        "        print(\"Entrada inválida. Por favor, ingrese un número entero.\")\n",
        "        return\n",
        "\n",
        "    costo_total = 0\n",
        "    if metros_consumidos <= 18:\n",
        "        costo_total = 6.00\n",
        "    elif 19 <= metros_consumidos <= 28:\n",
        "        exceso = metros_consumidos - 18\n",
        "        costo_total = 6.00 + (exceso * 0.45)\n",
        "    else:  # metros_consumidos >= 29\n",
        "        costo_primeros_18 = 6.00\n",
        "        costo_siguientes_10 = 10 * 0.45\n",
        "        costo_hasta_28 = costo_primeros_18 + costo_siguientes_10\n",
        "        exceso = metros_consumidos - 28\n",
        "        costo_exceso = exceso * 0.65\n",
        "        costo_total = costo_hasta_28 + costo_exceso\n",
        "\n",
        "    print(f\"\\nConsumo de agua: {metros_consumidos} metros\")\n",
        "    print(f\"Valor a pagar: ${costo_total:,.2f}\")\n",
        "\n",
        "# =========================================================\n",
        "# 3. Cálculo de meses acumulados\n",
        "# =========================================================\n",
        "def calcular_meses_acumulados():\n",
        "    \"\"\"\n",
        "    Pide al usuario el número de meses y calcula la suma acumulada.\n",
        "    \"\"\"\n",
        "    print(\"\\n--- 3. Meses Acumulados ---\")\n",
        "    try:\n",
        "        n_meses = int(input(\"Ingrese el número de meses a acumular: \"))\n",
        "        if n_meses < 0:\n",
        "            print(\"Por favor, ingrese un número de meses positivo.\")\n",
        "            return\n",
        "    except ValueError:\n",
        "        print(\"Entrada inválida. Por favor, ingrese un número entero.\")\n",
        "        return\n",
        "\n",
        "    acumulado_formula = (n_meses * (n_meses + 1)) // 2\n",
        "\n",
        "    print(f\"\\nNúmero de meses: {n_meses}\")\n",
        "    print(f\"Acumulado total: {acumulado_formula}\")\n",
        "\n",
        "    print(\"\\n--- Detalle de la tabla de acumulados ---\")\n",
        "    acumulado = 0\n",
        "    limite_impresion = 15\n",
        "    for mes in range(1, min(n_meses + 1, limite_impresion + 1)):\n",
        "        acumulado += mes\n",
        "        print(f\"Mes {mes}: {mes} + acumulado = {acumulado}\")\n",
        "    if n_meses > limite_impresion:\n",
        "        print(\"...\")\n",
        "        print(f\"Acumulado para el mes {n_meses}: {acumulado_formula}\")\n",
        "\n",
        "# =========================================================\n",
        "# 4. Sistema de Conversores (Basado en tu código)\n",
        "# =========================================================\n",
        "def conversor_universal(nombre_tipo, tasas):\n",
        "    \"\"\"\n",
        "    Función genérica para manejar cualquier tipo de conversión.\n",
        "    Se basa en una unidad base (la que tiene tasa 1).\n",
        "    \"\"\"\n",
        "    print(f\"\\n** Conversor de {nombre_tipo.capitalize()} **\")\n",
        "\n",
        "    unidades_disponibles = list(tasas.keys())\n",
        "\n",
        "    print(\"Unidades disponibles:\")\n",
        "    for i, unidad in enumerate(unidades_disponibles, 1):\n",
        "        print(f\"{i}. {unidad}\")\n",
        "\n",
        "    try:\n",
        "        opcion_origen = int(input(\"Selecciona el número de la unidad de origen: \")) - 1\n",
        "        opcion_destino = int(input(\"Selecciona el número de la unidad de destino: \")) - 1\n",
        "\n",
        "        if 0 <= opcion_origen < len(unidades_disponibles) and 0 <= opcion_destino < len(unidades_disponibles):\n",
        "            unidad_origen = unidades_disponibles[opcion_origen]\n",
        "            unidad_destino = unidades_disponibles[opcion_destino]\n",
        "\n",
        "            valor = float(input(f\"Ingresa el valor en {unidad_origen}: \"))\n",
        "\n",
        "            # Convierte el valor de origen a la unidad base (la que tiene tasa 1)\n",
        "            valor_en_base = valor / tasas[unidad_origen]\n",
        "            # Y luego de la unidad base a la unidad de destino.\n",
        "            resultado = valor_en_base * tasas[unidad_destino]\n",
        "\n",
        "            print(f\"{valor:,.2f} {unidad_origen} equivale a {resultado:,.2f} {unidad_destino}\")\n",
        "        else:\n",
        "            print(\"Opción no válida. Inténtalo de nuevo.\")\n",
        "    except (ValueError, IndexError):\n",
        "        print(\"Entrada no válida. Por favor, ingresa un número.\")\n",
        "\n",
        "def Cmonedas():\n",
        "    tasas = {\n",
        "        \"Dólar\": 1, \"Euro\": 0.92, \"Libra Esterlina\": 0.79, \"Yen Japonés\": 140.00,\n",
        "        \"Dólar Canadiense\": 1.35, \"Peso Mexicano\": 17.15, \"Peso Chileno\": 950.00,\n",
        "        \"Peso Argentino\": 870.00, \"Peso Colombiano\": 4000.00, \"Real Brasileño\": 5.20\n",
        "    }\n",
        "    conversor_universal(\"monedas\", tasas)\n",
        "\n",
        "def Cmasa():\n",
        "    tasas = {\n",
        "        \"Kilogramo\": 1, \"Gramo\": 1000, \"Miligramo\": 1000000, \"Libra\": 2.20462, \"Onza\": 35.274,\n",
        "        \"Tonelada\": 0.001, \"Stone\": 0.157473, \"Quilate\": 5000, \"Dram\": 564.383, \"Grain\": 15432.4\n",
        "    }\n",
        "    conversor_universal(\"masa\", tasas)\n",
        "\n",
        "def Cvolumen():\n",
        "    tasas = {\n",
        "        \"Litro\": 1, \"Mililitro\": 1000, \"Galón\": 0.264172, \"Cuarto\": 1.05669, \"Pinta\": 2.11338,\n",
        "        \"Taza\": 4.22675, \"Metro Cúbico\": 0.001, \"Pie Cúbico\": 0.0353147, \"Pulgada Cúbica\": 61.0237,\n",
        "        \"Onza Fluida\": 33.814\n",
        "    }\n",
        "    conversor_universal(\"volumen\", tasas)\n",
        "\n",
        "def Clongitud():\n",
        "    tasas = {\n",
        "        \"Metro\": 1, \"Kilómetro\": 0.001, \"Centímetro\": 100, \"Milímetro\": 1000,\n",
        "        \"Yarda\": 1.09361, \"Pie\": 3.28084, \"Pulgada\": 39.3701, \"Milla\": 0.000621371\n",
        "    }\n",
        "    conversor_universal(\"longitud\", tasas)\n",
        "\n",
        "def Calmacenamiento():\n",
        "    # Corregido: las tasas deben ser múltiplos de 1024, no decimales\n",
        "    tasas = {\n",
        "        \"Byte\": 1,\n",
        "        \"Kilobyte\": 1024,\n",
        "        \"Megabyte\": 1024 ** 2,\n",
        "        \"Gigabyte\": 1024 ** 3,\n",
        "        \"Terabyte\": 1024 ** 4,\n",
        "        \"Petabyte\": 1024 ** 5,\n",
        "        \"Exabyte\": 1024 ** 6,\n",
        "        \"Zettabyte\": 1024 ** 7,\n",
        "        \"Yottabyte\": 1024 ** 8,\n",
        "        \"Brontobyte\": 1024 ** 9\n",
        "    }\n",
        "    conversor_universal(\"almacenamiento\", tasas)\n",
        "\n",
        "def Ctiempo():\n",
        "    tasas = {\n",
        "        \"Segundo\": 1, \"Minuto\": 60, \"Hora\": 3600, \"Día\": 86400,\n",
        "        \"Semana\": 604800, \"Mes\": 2629746, \"Año\": 31556952,\n",
        "        \"Década\": 315569520, \"Siglo\": 3155695200, \"Milenio\": 31556952000\n",
        "    }\n",
        "    conversor_universal(\"tiempo\", tasas)\n",
        "\n",
        "def Carea():\n",
        "    tasas = {\n",
        "        \"Metro Cuadrado\": 1, \"Kilómetro Cuadrado\": 0.000001, \"Hectárea\": 0.0001, \"Pie Cuadrado\": 10.7639,\n",
        "        \"Centímetro Cuadrado\": 10000, \"Milla Cuadrada\": 3.86102e-07, \"Acre\": 0.000247105,\n",
        "        \"Yarda Cuadrada\": 1.19599, \"Manzana\": 0.00069874, \"Tarea\": 0.0022857\n",
        "    }\n",
        "    conversor_universal(\"area\", tasas)\n",
        "\n",
        "def Cenergia():\n",
        "    # Corregido: Tasas para convertir a Joule (unidad base = 1)\n",
        "    tasas = {\n",
        "        \"Joule\": 1,\n",
        "        \"Kilojoule\": 1000,\n",
        "        \"Caloría\": 4.184,\n",
        "        \"Kilocaloría\": 4184,\n",
        "        \"Vatio-hora\": 3600,\n",
        "        \"Kilovatio-hora\": 3600000,\n",
        "        \"Electronvoltio\": 1.60218e-19,\n",
        "        \"BTU\": 1055.06,\n",
        "        \"Termia\": 105506000,\n",
        "        \"Pie-libra\": 1.35582\n",
        "    }\n",
        "    conversor_universal(\"energía\", tasas)\n",
        "\n",
        "def menu_conversores():\n",
        "    \"\"\"\n",
        "    Menú de selección para los conversores.\n",
        "    \"\"\"\n",
        "    while True:\n",
        "        print(\"\\n** Menú de Conversores **\")\n",
        "        print(\"1. Conversión de monedas\")\n",
        "        print(\"2. Conversión de masa\")\n",
        "        print(\"3. Conversión de volumen\")\n",
        "        print(\"4. Conversión de longitud\")\n",
        "        print(\"5. Conversión de almacenamiento\")\n",
        "        print(\"6. Conversión de tiempo\")\n",
        "        print(\"7. Conversión de área\")\n",
        "        print(\"8. Conversión de energía\")\n",
        "        print(\"9. Volver al menú principal\")\n",
        "\n",
        "        opcion = input(\"opcion: \")\n",
        "\n",
        "        if opcion == \"1\":\n",
        "            Cmonedas()\n",
        "        elif opcion == \"2\":\n",
        "            Cmasa()\n",
        "        elif opcion == \"3\":\n",
        "            Cvolumen()\n",
        "        elif opcion == \"4\":\n",
        "            Clongitud()\n",
        "        elif opcion == \"5\":\n",
        "            Calmacenamiento()\n",
        "        elif opcion == \"6\":\n",
        "            Ctiempo()\n",
        "        elif opcion == \"7\":\n",
        "            Carea()\n",
        "        elif opcion == \"8\":\n",
        "            Cenergia()\n",
        "        elif opcion == \"9\":\n",
        "            return\n",
        "        else:\n",
        "            print(\"Opción no válida. Inténtalo de nuevo.\")\n",
        "\n",
        "def menu_principal():\n",
        "    \"\"\"\n",
        "    Menú principal del programa.\n",
        "    \"\"\"\n",
        "    while True:\n",
        "        print(\"\\n=============================================\")\n",
        "        print(\"         Menú de Ejercicios en Python        \")\n",
        "        print(\"=============================================\")\n",
        "        print(\"1. Calcular sueldo neto y deducciones\")\n",
        "        print(\"2. Calcular tarifa por consumo de agua\")\n",
        "        print(\"3. Calcular meses acumulados\")\n",
        "        print(\"4. Usar el sistema de conversores\")\n",
        "        print(\"5. Salir del programa\")\n",
        "        print(\"=============================================\")\n",
        "\n",
        "        opcion = input(\"Por favor, seleccione una opción (1-5): \")\n",
        "\n",
        "        if opcion == \"1\":\n",
        "            calcular_sueldo_neto()\n",
        "        elif opcion == \"2\":\n",
        "            calcular_tarifa_agua()\n",
        "        elif opcion == \"3\":\n",
        "            calcular_meses_acumulados()\n",
        "        elif opcion == \"4\":\n",
        "            menu_conversores()\n",
        "        elif opcion == \"5\":\n",
        "            print(\"Saliendo del programa...\")\n",
        "            sys.exit()\n",
        "        else:\n",
        "            print(\"Opción no válida. Por favor, ingrese un número del 1 al 5.\")\n",
        "\n",
        "# =========================================================\n",
        "# Ejecución del programa\n",
        "# =========================================================\n",
        "if __name__ == \"__main__\":\n",
        "    menu_principal()"
      ],
      "metadata": {
        "colab": {
          "base_uri": "https://localhost:8080/"
        },
        "collapsed": true,
        "id": "_otYLb4iVRlV",
        "outputId": "727c109d-ec1c-49ce-9a5b-f1a51a8f61a3"
      },
      "execution_count": null,
      "outputs": [
        {
          "output_type": "stream",
          "name": "stdout",
          "text": [
            "\n",
            "=============================================\n",
            "         Menú de Ejercicios en Python        \n",
            "=============================================\n",
            "1. Calcular sueldo neto y deducciones\n",
            "2. Calcular tarifa por consumo de agua\n",
            "3. Calcular meses acumulados\n",
            "4. Usar el sistema de conversores\n",
            "5. Salir del programa\n",
            "=============================================\n",
            "Por favor, seleccione una opción (1-5): 4\n",
            "\n",
            "** Menú de Conversores **\n",
            "1. Conversión de monedas\n",
            "2. Conversión de masa\n",
            "3. Conversión de volumen\n",
            "4. Conversión de longitud\n",
            "5. Conversión de almacenamiento\n",
            "6. Conversión de tiempo\n",
            "7. Conversión de área\n",
            "8. Conversión de energía\n",
            "9. Volver al menú principal\n",
            "opcion: 8\n",
            "\n",
            "** Conversor de Energía **\n",
            "Unidades disponibles:\n",
            "1. Joule\n",
            "2. Kilojoule\n",
            "3. Caloría\n",
            "4. Kilocaloría\n",
            "5. Vatio-hora\n",
            "6. Kilovatio-hora\n",
            "7. Electronvoltio\n",
            "8. BTU\n",
            "9. Termia\n",
            "10. Pie-libra\n",
            "Selecciona el número de la unidad de origen: 1\n",
            "Selecciona el número de la unidad de destino: 10\n",
            "Ingresa el valor en Joule: 1000\n",
            "1,000.00 Joule equivale a 1,355.82 Pie-libra\n",
            "\n",
            "** Menú de Conversores **\n",
            "1. Conversión de monedas\n",
            "2. Conversión de masa\n",
            "3. Conversión de volumen\n",
            "4. Conversión de longitud\n",
            "5. Conversión de almacenamiento\n",
            "6. Conversión de tiempo\n",
            "7. Conversión de área\n",
            "8. Conversión de energía\n",
            "9. Volver al menú principal\n"
          ]
        }
      ]
    },
    {
      "cell_type": "markdown",
      "source": [
        "SUELDO NETO Y REDUCCION"
      ],
      "metadata": {
        "id": "-9tGm_p3WhbT"
      }
    },
    {
      "cell_type": "code",
      "source": [],
      "metadata": {
        "id": "lzGfaE3iWgae"
      },
      "execution_count": null,
      "outputs": []
    },
    {
      "cell_type": "markdown",
      "source": [
        "TARIFA DE AGUA"
      ],
      "metadata": {
        "id": "2ro_KW1tWmOq"
      }
    },
    {
      "cell_type": "code",
      "source": [],
      "metadata": {
        "id": "Jvl3BU_wWlxD"
      },
      "execution_count": null,
      "outputs": []
    }
  ]
}